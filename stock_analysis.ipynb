{
  "cells": [
    {
      "cell_type": "markdown",
      "metadata": {
        "id": "view-in-github",
        "colab_type": "text"
      },
      "source": [
        "<a href=\"https://colab.research.google.com/github/saifmdev/stock_scraper_ta/blob/main/stock_analysis.ipynb\" target=\"_parent\"><img src=\"https://colab.research.google.com/assets/colab-badge.svg\" alt=\"Open In Colab\"/></a>"
      ]
    },
    {
      "cell_type": "markdown",
      "metadata": {
        "id": "2F4AN3W_Yj53"
      },
      "source": [
        "#Simple OHLC Chart with Moving Average Band -Pandas and Plotly"
      ]
    },
    {
      "cell_type": "markdown",
      "metadata": {
        "id": "b1ui6GnY2oIv"
      },
      "source": [
        "##Run this command if 'ta' library now installed"
      ]
    },
    {
      "cell_type": "code",
      "execution_count": null,
      "metadata": {
        "id": "jVjjDITF2vg-"
      },
      "outputs": [],
      "source": [
        "pip install ta"
      ]
    },
    {
      "cell_type": "code",
      "execution_count": null,
      "metadata": {
        "id": "CWhhIcpBCTOE"
      },
      "outputs": [],
      "source": [
        "pip install plotly "
      ]
    },
    {
      "cell_type": "markdown",
      "metadata": {
        "id": "APMUUHGerIJ7"
      },
      "source": [
        "##Import Libraries"
      ]
    },
    {
      "cell_type": "code",
      "execution_count": null,
      "metadata": {
        "id": "muYcOZ5brMbk"
      },
      "outputs": [],
      "source": [
        "from ta.trend import ema_indicator as ema\n",
        "from ta.volume import volume_weighted_average_price as vwap\n",
        "from ta.momentum import rsi\n",
        "import plotly.graph_objects as go\n",
        "import plotly.express as px\n",
        "import pandas as pd\n",
        "from datetime import date, datetime\n",
        "import time\n"
      ]
    },
    {
      "cell_type": "code",
      "execution_count": null,
      "metadata": {
        "id": "ha2u5mNhYlfQ"
      },
      "outputs": [],
      "source": [
        "#Sample list of tickers\n",
        "tickers = ['AA','MSFT', 'FB', 'TSLA', 'GOOG', 'AMZN']\n",
        "\n",
        "#create from and to timestamps in epoch\n",
        "current  = date.today().strftime('%s')\n",
        "past = int(datetime(2019,12,1,0,0).timestamp())\n",
        "\n",
        "#loop through tickers and query yahoo finance website to get .csv \n",
        "for ticker in tickers:\n",
        "  link = f\"https://query1.finance.yahoo.com/v7/finance/download/{ticker}?period1={past}&period2={current}&interval=1d&events=history&includeAdjustedClose=true\"\n",
        "  df = pd.read_csv(link)\n",
        "  df['EMA13'] = ema(df['Close'],13)\n",
        "  df['EMA21'] = ema(df['Close'],21)\n",
        "  df['EMA34'] = ema(df['Close'],34)\n",
        "  df['EMA55'] = ema(df['Close'],55)\n",
        "  df['EMA89'] = ema(df['Close'],89)\n",
        "  df['EMA144'] = ema(df['Close'],144)\n",
        "  df['VWAP'] = vwap(df['High'], df['Low'],df['Close'], df['Volume'],5)\n",
        "  fig = px.line(df, x=\"Date\", y=\"EMA13\", title=ticker, labels={ticker})\n",
        "  fig.add_scatter(x=df['Date'], y=df['EMA21'], mode='lines', name=\"EMA21\")\n",
        "  fig.add_scatter(x=df['Date'], y=df['EMA34'], mode='lines', name=\"EMA34\")\n",
        "  fig.add_scatter(x=df['Date'], y=df['EMA55'], mode='lines', name=\"EMA55\")\n",
        "  fig.add_scatter(x=df['Date'], y=df['EMA89'], mode='lines', name=\"EMA89\")\n",
        "  fig.add_scatter(x=df['Date'], y=df['EMA144'], mode='lines', name=\"EMA144\")\n",
        "  fig.add_scatter(x=df['Date'], y=df['VWAP'], mode='lines', name=\"VWAP\")\n",
        "  fig.add_ohlc(open=df['Open'], high=df['High'], low=df['Low'], close=df['Close'], x=df[\"Date\"],name=\"OHLC\")\n",
        "  fig.update_layout(\n",
        "    yaxis_title='Price in $USD'\n",
        "  )\n",
        "\n",
        "  fig.show()"
      ]
    },
    {
      "cell_type": "markdown",
      "source": [
        "#YAHOO! Finance Web Scraper + INDICATOR CALCULATIONS"
      ],
      "metadata": {
        "id": "-tbxASKVwHYa"
      }
    },
    {
      "cell_type": "markdown",
      "metadata": {
        "id": "9zFvcnudBuQD"
      },
      "source": [
        "##Run this command if 'ta' library not installed"
      ]
    },
    {
      "cell_type": "code",
      "execution_count": 3,
      "metadata": {
        "id": "UBtfLqqLBoPS",
        "colab": {
          "base_uri": "https://localhost:8080/"
        },
        "outputId": "b04d8612-416f-4d1f-aaa7-0d61461b5b19"
      },
      "outputs": [
        {
          "output_type": "stream",
          "name": "stdout",
          "text": [
            "Collecting ta\n",
            "  Downloading ta-0.9.0.tar.gz (25 kB)\n",
            "Requirement already satisfied: numpy in /usr/local/lib/python3.7/dist-packages (from ta) (1.21.5)\n",
            "Requirement already satisfied: pandas in /usr/local/lib/python3.7/dist-packages (from ta) (1.3.5)\n",
            "Requirement already satisfied: pytz>=2017.3 in /usr/local/lib/python3.7/dist-packages (from pandas->ta) (2018.9)\n",
            "Requirement already satisfied: python-dateutil>=2.7.3 in /usr/local/lib/python3.7/dist-packages (from pandas->ta) (2.8.2)\n",
            "Requirement already satisfied: six>=1.5 in /usr/local/lib/python3.7/dist-packages (from python-dateutil>=2.7.3->pandas->ta) (1.15.0)\n",
            "Building wheels for collected packages: ta\n",
            "  Building wheel for ta (setup.py) ... \u001b[?25l\u001b[?25hdone\n",
            "  Created wheel for ta: filename=ta-0.9.0-py3-none-any.whl size=28908 sha256=1095b01c7a2d6c1a861d0317ca3e40c05f150f672235f535b759461e376dc9a9\n",
            "  Stored in directory: /root/.cache/pip/wheels/72/78/64/cc1c01506a1010a9845e9bd7c69333730f7174661228ea4f98\n",
            "Successfully built ta\n",
            "Installing collected packages: ta\n",
            "Successfully installed ta-0.9.0\n"
          ]
        }
      ],
      "source": [
        "pip install ta"
      ]
    },
    {
      "cell_type": "markdown",
      "source": [
        "##Run this command if 'plotly' library not installed"
      ],
      "metadata": {
        "id": "q2K5Gq3EZeRX"
      }
    },
    {
      "cell_type": "code",
      "source": [
        "pip install plotly"
      ],
      "metadata": {
        "id": "n_ad-zTOZdwj",
        "colab": {
          "base_uri": "https://localhost:8080/"
        },
        "outputId": "6f126ec3-1640-40cb-eede-106e632b3756"
      },
      "execution_count": 2,
      "outputs": [
        {
          "output_type": "stream",
          "name": "stdout",
          "text": [
            "Requirement already satisfied: plotly in /usr/local/lib/python3.7/dist-packages (5.5.0)\n",
            "Requirement already satisfied: six in /usr/local/lib/python3.7/dist-packages (from plotly) (1.15.0)\n",
            "Requirement already satisfied: tenacity>=6.2.0 in /usr/local/lib/python3.7/dist-packages (from plotly) (8.0.1)\n"
          ]
        }
      ]
    },
    {
      "cell_type": "markdown",
      "metadata": {
        "id": "Yt9XA81znaGF"
      },
      "source": [
        "##Import Libraries"
      ]
    },
    {
      "cell_type": "code",
      "execution_count": 4,
      "metadata": {
        "id": "_viAueZ0nja5"
      },
      "outputs": [],
      "source": [
        "from datetime import date, datetime\n",
        "from ta.trend import ema_indicator as ema, sma_indicator as sma, wma_indicator as wma, macd,macd_diff,macd_signal\n",
        "from ta.volume import volume_weighted_average_price as vwap, on_balance_volume as obv\n",
        "from ta.momentum import rsi\n",
        "from ta.volatility import average_true_range as atr\n",
        "from urllib.error import HTTPError\n",
        "from pathlib import Path\n",
        "import plotly.graph_objects as go\n",
        "import plotly.express as px\n",
        "import pandas as pd\n",
        "import numpy as np\n",
        "from scipy.stats import linregress\n",
        "import os\n",
        "import shutil\n",
        "import time"
      ]
    },
    {
      "cell_type": "code",
      "source": [
        "#Hull Moving Average Calculation using Weighted Moving Average (Fibonacci Band - 13,34,55,89,144)\n",
        "\n",
        "def hma(s, period):\n",
        "  return wma(wma(s, period//2).multiply(2).sub(wma(s, period)), int(np.sqrt(period)))"
      ],
      "metadata": {
        "id": "4MOOJqBffJOX"
      },
      "execution_count": 5,
      "outputs": []
    },
    {
      "cell_type": "code",
      "execution_count": 8,
      "metadata": {
        "id": "iqBVkcLhoryB",
        "colab": {
          "base_uri": "https://localhost:8080/",
          "height": 324
        },
        "outputId": "f1164e5e-599d-4fc7-aec0-6c322f633c5a"
      },
      "outputs": [
        {
          "output_type": "stream",
          "name": "stdout",
          "text": [
            "A Downloaded ✓\n",
            "AA Downloaded ✓\n",
            "AAC Downloaded ✓\n",
            "AACG Downloaded ✓\n"
          ]
        },
        {
          "output_type": "error",
          "ename": "KeyboardInterrupt",
          "evalue": "ignored",
          "traceback": [
            "\u001b[0;31m---------------------------------------------------------------------------\u001b[0m",
            "\u001b[0;31mKeyboardInterrupt\u001b[0m                         Traceback (most recent call last)",
            "\u001b[0;32m<ipython-input-8-866f4ab2972b>\u001b[0m in \u001b[0;36m<module>\u001b[0;34m()\u001b[0m\n\u001b[1;32m     25\u001b[0m   \u001b[0;32mtry\u001b[0m\u001b[0;34m:\u001b[0m\u001b[0;34m\u001b[0m\u001b[0;34m\u001b[0m\u001b[0m\n\u001b[1;32m     26\u001b[0m     \u001b[0mlink\u001b[0m \u001b[0;34m=\u001b[0m \u001b[0;34mf\"https://query1.finance.yahoo.com/v7/finance/download/{ticker}?period1={past}&period2={current}&interval=1d&events=history&includeAdjustedClose=true\"\u001b[0m\u001b[0;34m\u001b[0m\u001b[0;34m\u001b[0m\u001b[0m\n\u001b[0;32m---> 27\u001b[0;31m     \u001b[0mtime\u001b[0m\u001b[0;34m.\u001b[0m\u001b[0msleep\u001b[0m\u001b[0;34m(\u001b[0m\u001b[0;36m0.2\u001b[0m\u001b[0;34m)\u001b[0m\u001b[0;34m\u001b[0m\u001b[0;34m\u001b[0m\u001b[0m\n\u001b[0m\u001b[1;32m     28\u001b[0m     \u001b[0mdata\u001b[0m \u001b[0;34m=\u001b[0m \u001b[0mpd\u001b[0m\u001b[0;34m.\u001b[0m\u001b[0mread_csv\u001b[0m\u001b[0;34m(\u001b[0m\u001b[0mlink\u001b[0m\u001b[0;34m)\u001b[0m\u001b[0;34m\u001b[0m\u001b[0;34m\u001b[0m\u001b[0m\n\u001b[1;32m     29\u001b[0m     \u001b[0;31m#Calculate Difference between Close and Open and Moving Average for smoothing (Period: 5)\u001b[0m\u001b[0;34m\u001b[0m\u001b[0;34m\u001b[0m\u001b[0;34m\u001b[0m\u001b[0m\n",
            "\u001b[0;31mKeyboardInterrupt\u001b[0m: "
          ]
        }
      ],
      "source": [
        "#Set from and to date in epoch format (int)\n",
        "current  = date.today().strftime('%s')\n",
        "past = int(datetime(2019,1,1,0,0).timestamp())\n",
        "\n",
        "#Get tickers from csv and convert to numpy array\n",
        "ticker_list = 'https://drive.google.com/uc?export=download&id=1xzFbp9nmKQL0vz2F_BkVzdZercgLfEsq'\n",
        "tickers_df = pd.read_csv(ticker_list)\n",
        "tickers = tickers_df['Symbol'].to_numpy()\n",
        "\n",
        "#Set OPENCLOSEDIFF_AVG Period\n",
        "open_close_diff_period = 5\n",
        "\n",
        "#remove existing directory and create new empty one for update\n",
        "try:\n",
        "    p = Path('/tickers')\n",
        "    if p.exists():\n",
        "      shutil.rmtree('./tickers')\n",
        "    time.sleep(0.5)\n",
        "    os.makedirs('tickers', exist_ok=True)  \n",
        "except OSError as e:\n",
        "    print(\"Error: %s - %s.\" % (e.filename, e.strerror))\n",
        "\n",
        "#Loop through array of tickers to make queries to Yahoo Finance and save results as .csv\n",
        "for ticker in tickers:\n",
        "  try:\n",
        "    link = f\"https://query1.finance.yahoo.com/v7/finance/download/{ticker}?period1={past}&period2={current}&interval=1d&events=history&includeAdjustedClose=true\"\n",
        "    time.sleep(0.2)\n",
        "    data = pd.read_csv(link)\n",
        "    #Calculate Difference between Close and Open and Moving Average for smoothing (Period: 5)\n",
        "    data['OPENCLOSEDIFF'] = (data['Close'] - data['Open']).fillna(0)\n",
        "    data['OPENCLOSEDIFF_EMA_5'] = ema(data['OPENCLOSEDIFF'],open_close_diff_period).fillna(0)\n",
        "\n",
        "    #Calculate Exponential Moving Average Fibonacci Band and Calculate Average of all values combined - TREND IND.\n",
        "    data['EMA13'] = ema(data['Close'],13).fillna(0)\n",
        "    data['EMA21'] = ema(data['Close'],21).fillna(0)\n",
        "    data['EMA34'] = ema(data['Close'],34).fillna(0)\n",
        "    data['EMA55'] = ema(data['Close'],55).fillna(0)\n",
        "    data['EMA89'] = ema(data['Close'],89).fillna(0)\n",
        "    data['EMA144'] = ema(data['Close'],144).fillna(0)\n",
        "    # data['EMA_AVG'] = (data['EMA13'] + data['EMA34'] + data['EMA55'] + data['EMA89'] + data['EMA144'])/5\n",
        "    \n",
        "    #Calculate Hull Moving Average Fibonacci Band and Calculate Average of all values combined - TREND IND.\n",
        "    data['HMA13'] = hma(data['Close'],13).fillna(0)\n",
        "    data['HMA21'] = hma(data['Close'],21).fillna(0)\n",
        "    data['HMA34'] = hma(data['Close'],34).fillna(0)\n",
        "    data['HMA55'] = hma(data['Close'],55).fillna(0)\n",
        "    data['HMA89'] = hma(data['Close'],89).fillna(0)\n",
        "    data['HMA144'] = hma(data['Close'],144).fillna(0)\n",
        "    # data['HMA_AVG'] = (data['HMA13'] + data['HMA34'] + data['HMA55'] + data['HMA89'] + data['HMA144'])/5\n",
        "\n",
        "    #Calculate MACD, MACD Signal Line and MACD Histogram - TREND IND.\n",
        "    data['MACD'] = macd(data['Close'],26,12).fillna(0)\n",
        "    data['MACD_SIGNAL'] = macd_signal(data['Close'],26,12).fillna(0)\n",
        "    data['MACD_HIST'] = macd_diff(data['Close'],26,12).fillna(0)\n",
        "\n",
        "    #Calculate OBV\n",
        "    data['OBV'] = obv(data['Close'], data['Volume']).fillna(0)\n",
        "    data['OBV_EMA_13'] = ema(data['OBV'],13).fillna(0)\n",
        "    data['OBV_EMA_34'] = ema(data['OBV'],34).fillna(0)\n",
        "    data['OBV_EMA_55'] = ema(data['OBV'],55).fillna(0)\n",
        "\n",
        "    #Calculate VWAP - VOLUME IND.\n",
        "    data['VWAP'] = vwap(data['High'], data['Low'],data['Close'], data['Volume'],5).fillna(0)\n",
        "\n",
        "    #Calculate RSI Fibonacci Band and Average of values combined - MOMENTUM IND.\n",
        "    data['RSI8'] = rsi(data['Close'],8).fillna(0)\n",
        "    data['RSI13'] = rsi(data['Close'],13).fillna(0)\n",
        "    data['RSI21'] = rsi(data['Close'],21).fillna(0)\n",
        "    # data['RSI_AVG'] = (data['RSI13'] + data['RSI13'] + data['RSI21']) / 3.fillna(0)\n",
        "\n",
        "    #Write File to tikcers directory\n",
        "    data.to_csv(f\"./tickers/{ticker}.csv\")\n",
        "    print(f\"{ticker} Downloaded ✓\")\n",
        "  except HTTPError as err:\n",
        "    print(f\"{ticker} Not Found X\")\n",
        "print(\"Download Complete\")"
      ]
    },
    {
      "cell_type": "markdown",
      "source": [
        "#Implementing Multiple Linear Regression on Data Collected to Predict Future Price Changes"
      ],
      "metadata": {
        "id": "0_qkfwdtN4_v"
      }
    },
    {
      "cell_type": "markdown",
      "source": [
        "##Import Libraries"
      ],
      "metadata": {
        "id": "QEXzkQntD_yV"
      }
    },
    {
      "cell_type": "code",
      "source": [
        "from sklearn.model_selection import train_test_split\n",
        "from sklearn.ensemble import RandomForestRegressor\n",
        "from sklearn.metrics import r2_score\n",
        "import plotly.graph_objects as go\n",
        "import plotly.express as px"
      ],
      "metadata": {
        "id": "C9YkjooHEIDF"
      },
      "execution_count": 145,
      "outputs": []
    },
    {
      "cell_type": "code",
      "source": [
        "df1 = pd.read_csv('./tickers/AA.csv')\n",
        "numeric_features = ['EMA13', 'EMA21', 'EMA34', 'EMA55', 'EMA89', 'HMA13', 'HMA21', 'HMA34', 'HMA55', 'HMA89', 'HMA144', 'MACD', 'MACD_SIGNAL', 'MACD_HIST', 'OBV', 'OBV_EMA_13', 'OBV_EMA_34', 'OBV_EMA_55','VWAP', 'RSI8', 'RSI13', 'RSI21']\n",
        "# numeric_features = ['Open', 'High', 'Low', 'Close', 'Volume', 'EMA13', 'EMA21', 'EMA34', 'EMA55', 'EMA89', 'HMA13', 'HMA21', 'HMA34', 'HMA55', 'HMA89', 'HMA144', 'MACD', 'MACD_SIGNAL', 'MACD_HIST', 'OBV', 'OBV_EMA_13', 'OBV_EMA_34', 'OBV_EMA_55','VWAP', 'RSI8', 'RSI13', 'RSI21']\n",
        "x_train, x_test, y_train, y_test = train_test_split(df1[numeric_features],df1['Close'], train_size=0.7,test_size=0.3, random_state=0)\n",
        "#Choose Features to evaluate in Model, this case only picked numerical features\n"
      ],
      "metadata": {
        "id": "3g5akiQtOEM2"
      },
      "execution_count": 146,
      "outputs": []
    },
    {
      "cell_type": "code",
      "source": [
        "y_test.sort_values(ascending=True)\n",
        "# y_test.rename({\"index\":\"Id\"})\n"
      ],
      "metadata": {
        "id": "-yajZknKJPBN",
        "outputId": "b885fcb2-ed8d-4d1e-d712-d79c1dd74889",
        "colab": {
          "base_uri": "https://localhost:8080/"
        }
      },
      "execution_count": 152,
      "outputs": [
        {
          "output_type": "execute_result",
          "data": {
            "text/plain": [
              "316     5.970000\n",
              "312     6.070000\n",
              "315     6.080000\n",
              "313     6.160000\n",
              "317     6.550000\n",
              "         ...    \n",
              "764    61.880001\n",
              "779    62.740002\n",
              "781    63.750000\n",
              "780    64.220001\n",
              "786    73.860001\n",
              "Name: Close, Length: 237, dtype: float64"
            ]
          },
          "metadata": {},
          "execution_count": 152
        }
      ]
    },
    {
      "cell_type": "code",
      "source": [
        "train_model = RandomForestRegressor(random_state=1)"
      ],
      "metadata": {
        "id": "VFS4naEdLNC9"
      },
      "execution_count": 132,
      "outputs": []
    },
    {
      "cell_type": "code",
      "source": [
        "train_model.fit(x_train,y_train)"
      ],
      "metadata": {
        "id": "fiQqpbSeLTX6",
        "outputId": "8e77dde9-cfa2-4ba9-a16d-b2986fbc165d",
        "colab": {
          "base_uri": "https://localhost:8080/"
        }
      },
      "execution_count": 133,
      "outputs": [
        {
          "output_type": "execute_result",
          "data": {
            "text/plain": [
              "RandomForestRegressor(random_state=1)"
            ]
          },
          "metadata": {},
          "execution_count": 133
        }
      ]
    },
    {
      "cell_type": "code",
      "source": [
        "price_preds = train_model.predict(x_test)"
      ],
      "metadata": {
        "id": "oCwCJE91Lk9s"
      },
      "execution_count": 134,
      "outputs": []
    },
    {
      "cell_type": "code",
      "source": [
        "output = pd.DataFrame({'Id': x_test.index, 'SalePrice': price_preds}).sort_values(by=['Id']).reset_index().drop(columns=['index'])\n",
        "output.to_csv('price_preds.csv', index=False)"
      ],
      "metadata": {
        "id": "2TDd5_MrC3Hh"
      },
      "execution_count": 135,
      "outputs": []
    },
    {
      "cell_type": "code",
      "source": [
        "output.head()"
      ],
      "metadata": {
        "id": "-69RAFv7FJd0",
        "outputId": "f27cf3f4-5f57-4746-b77e-a561d8000343",
        "colab": {
          "base_uri": "https://localhost:8080/",
          "height": 206
        }
      },
      "execution_count": 136,
      "outputs": [
        {
          "output_type": "execute_result",
          "data": {
            "text/html": [
              "\n",
              "  <div id=\"df-40f97ef5-4e45-4614-a0ba-bcbea70efc7e\">\n",
              "    <div class=\"colab-df-container\">\n",
              "      <div>\n",
              "<style scoped>\n",
              "    .dataframe tbody tr th:only-of-type {\n",
              "        vertical-align: middle;\n",
              "    }\n",
              "\n",
              "    .dataframe tbody tr th {\n",
              "        vertical-align: top;\n",
              "    }\n",
              "\n",
              "    .dataframe thead th {\n",
              "        text-align: right;\n",
              "    }\n",
              "</style>\n",
              "<table border=\"1\" class=\"dataframe\">\n",
              "  <thead>\n",
              "    <tr style=\"text-align: right;\">\n",
              "      <th></th>\n",
              "      <th>Id</th>\n",
              "      <th>SalePrice</th>\n",
              "    </tr>\n",
              "  </thead>\n",
              "  <tbody>\n",
              "    <tr>\n",
              "      <th>0</th>\n",
              "      <td>1</td>\n",
              "      <td>23.6287</td>\n",
              "    </tr>\n",
              "    <tr>\n",
              "      <th>1</th>\n",
              "      <td>2</td>\n",
              "      <td>24.6533</td>\n",
              "    </tr>\n",
              "    <tr>\n",
              "      <th>2</th>\n",
              "      <td>8</td>\n",
              "      <td>28.9172</td>\n",
              "    </tr>\n",
              "    <tr>\n",
              "      <th>3</th>\n",
              "      <td>10</td>\n",
              "      <td>29.0557</td>\n",
              "    </tr>\n",
              "    <tr>\n",
              "      <th>4</th>\n",
              "      <td>12</td>\n",
              "      <td>29.5179</td>\n",
              "    </tr>\n",
              "  </tbody>\n",
              "</table>\n",
              "</div>\n",
              "      <button class=\"colab-df-convert\" onclick=\"convertToInteractive('df-40f97ef5-4e45-4614-a0ba-bcbea70efc7e')\"\n",
              "              title=\"Convert this dataframe to an interactive table.\"\n",
              "              style=\"display:none;\">\n",
              "        \n",
              "  <svg xmlns=\"http://www.w3.org/2000/svg\" height=\"24px\"viewBox=\"0 0 24 24\"\n",
              "       width=\"24px\">\n",
              "    <path d=\"M0 0h24v24H0V0z\" fill=\"none\"/>\n",
              "    <path d=\"M18.56 5.44l.94 2.06.94-2.06 2.06-.94-2.06-.94-.94-2.06-.94 2.06-2.06.94zm-11 1L8.5 8.5l.94-2.06 2.06-.94-2.06-.94L8.5 2.5l-.94 2.06-2.06.94zm10 10l.94 2.06.94-2.06 2.06-.94-2.06-.94-.94-2.06-.94 2.06-2.06.94z\"/><path d=\"M17.41 7.96l-1.37-1.37c-.4-.4-.92-.59-1.43-.59-.52 0-1.04.2-1.43.59L10.3 9.45l-7.72 7.72c-.78.78-.78 2.05 0 2.83L4 21.41c.39.39.9.59 1.41.59.51 0 1.02-.2 1.41-.59l7.78-7.78 2.81-2.81c.8-.78.8-2.07 0-2.86zM5.41 20L4 18.59l7.72-7.72 1.47 1.35L5.41 20z\"/>\n",
              "  </svg>\n",
              "      </button>\n",
              "      \n",
              "  <style>\n",
              "    .colab-df-container {\n",
              "      display:flex;\n",
              "      flex-wrap:wrap;\n",
              "      gap: 12px;\n",
              "    }\n",
              "\n",
              "    .colab-df-convert {\n",
              "      background-color: #E8F0FE;\n",
              "      border: none;\n",
              "      border-radius: 50%;\n",
              "      cursor: pointer;\n",
              "      display: none;\n",
              "      fill: #1967D2;\n",
              "      height: 32px;\n",
              "      padding: 0 0 0 0;\n",
              "      width: 32px;\n",
              "    }\n",
              "\n",
              "    .colab-df-convert:hover {\n",
              "      background-color: #E2EBFA;\n",
              "      box-shadow: 0px 1px 2px rgba(60, 64, 67, 0.3), 0px 1px 3px 1px rgba(60, 64, 67, 0.15);\n",
              "      fill: #174EA6;\n",
              "    }\n",
              "\n",
              "    [theme=dark] .colab-df-convert {\n",
              "      background-color: #3B4455;\n",
              "      fill: #D2E3FC;\n",
              "    }\n",
              "\n",
              "    [theme=dark] .colab-df-convert:hover {\n",
              "      background-color: #434B5C;\n",
              "      box-shadow: 0px 1px 3px 1px rgba(0, 0, 0, 0.15);\n",
              "      filter: drop-shadow(0px 1px 2px rgba(0, 0, 0, 0.3));\n",
              "      fill: #FFFFFF;\n",
              "    }\n",
              "  </style>\n",
              "\n",
              "      <script>\n",
              "        const buttonEl =\n",
              "          document.querySelector('#df-40f97ef5-4e45-4614-a0ba-bcbea70efc7e button.colab-df-convert');\n",
              "        buttonEl.style.display =\n",
              "          google.colab.kernel.accessAllowed ? 'block' : 'none';\n",
              "\n",
              "        async function convertToInteractive(key) {\n",
              "          const element = document.querySelector('#df-40f97ef5-4e45-4614-a0ba-bcbea70efc7e');\n",
              "          const dataTable =\n",
              "            await google.colab.kernel.invokeFunction('convertToInteractive',\n",
              "                                                     [key], {});\n",
              "          if (!dataTable) return;\n",
              "\n",
              "          const docLinkHtml = 'Like what you see? Visit the ' +\n",
              "            '<a target=\"_blank\" href=https://colab.research.google.com/notebooks/data_table.ipynb>data table notebook</a>'\n",
              "            + ' to learn more about interactive tables.';\n",
              "          element.innerHTML = '';\n",
              "          dataTable['output_type'] = 'display_data';\n",
              "          await google.colab.output.renderOutput(dataTable, element);\n",
              "          const docLink = document.createElement('div');\n",
              "          docLink.innerHTML = docLinkHtml;\n",
              "          element.appendChild(docLink);\n",
              "        }\n",
              "      </script>\n",
              "    </div>\n",
              "  </div>\n",
              "  "
            ],
            "text/plain": [
              "   Id  SalePrice\n",
              "0   1    23.6287\n",
              "1   2    24.6533\n",
              "2   8    28.9172\n",
              "3  10    29.0557\n",
              "4  12    29.5179"
            ]
          },
          "metadata": {},
          "execution_count": 136
        }
      ]
    },
    {
      "cell_type": "code",
      "source": [
        "r2_score(y_test, price_preds)"
      ],
      "metadata": {
        "id": "pKzMmajo-r_i",
        "outputId": "dda4e496-4057-4e7c-9c52-74c547e3d9f6",
        "colab": {
          "base_uri": "https://localhost:8080/"
        }
      },
      "execution_count": 137,
      "outputs": [
        {
          "output_type": "execute_result",
          "data": {
            "text/plain": [
              "0.997236317843097"
            ]
          },
          "metadata": {},
          "execution_count": 137
        }
      ]
    },
    {
      "cell_type": "code",
      "source": [
        "len(output.SalePrice)"
      ],
      "metadata": {
        "id": "NPMAvnJTJyXk",
        "outputId": "2dfe8f46-5356-4fc7-c6dd-f0e6328a029f",
        "colab": {
          "base_uri": "https://localhost:8080/"
        }
      },
      "execution_count": 138,
      "outputs": [
        {
          "output_type": "execute_result",
          "data": {
            "text/plain": [
              "237"
            ]
          },
          "metadata": {},
          "execution_count": 138
        }
      ]
    },
    {
      "cell_type": "code",
      "source": [
        "fig = px.line(df1, x=output.Id, y=output.SalePrice, title=\"Prediction\", labels=\"Pred\").show()\n",
        "fig2 = px.line(y_test, x=y_test.index, y=output.SalePrice, title=\"Actual\", labels=\"ACtual\").show()\n"
      ],
      "metadata": {
        "id": "lmQkP8A-Ahov",
        "outputId": "0e1a4326-7983-4ff0-8c8d-98d86b75bfb8",
        "colab": {
          "base_uri": "https://localhost:8080/",
          "height": 1000
        }
      },
      "execution_count": 128,
      "outputs": [
        {
          "output_type": "display_data",
          "data": {
            "text/html": [
              "<html>\n",
              "<head><meta charset=\"utf-8\" /></head>\n",
              "<body>\n",
              "    <div>            <script src=\"https://cdnjs.cloudflare.com/ajax/libs/mathjax/2.7.5/MathJax.js?config=TeX-AMS-MML_SVG\"></script><script type=\"text/javascript\">if (window.MathJax) {MathJax.Hub.Config({SVG: {font: \"STIX-Web\"}});}</script>                <script type=\"text/javascript\">window.PlotlyConfig = {MathJaxConfig: 'local'};</script>\n",
              "        <script src=\"https://cdn.plot.ly/plotly-2.8.3.min.js\"></script>                <div id=\"d6c1f76e-b46a-4113-b39f-61a046d79a5e\" class=\"plotly-graph-div\" style=\"height:525px; width:100%;\"></div>            <script type=\"text/javascript\">                                    window.PLOTLYENV=window.PLOTLYENV || {};                                    if (document.getElementById(\"d6c1f76e-b46a-4113-b39f-61a046d79a5e\")) {                    Plotly.newPlot(                        \"d6c1f76e-b46a-4113-b39f-61a046d79a5e\",                        [{\"hovertemplate\":\"x=%{x}<br>y=%{y}<extra></extra>\",\"legendgroup\":\"\",\"line\":{\"color\":\"#636efa\",\"dash\":\"solid\"},\"marker\":{\"symbol\":\"circle\"},\"mode\":\"lines\",\"name\":\"\",\"orientation\":\"v\",\"showlegend\":false,\"x\":[1,2,8,10,12,14,17,18,21,27,31,35,37,39,40,45,48,49,50,52,55,62,64,68,71,75,76,77,78,79,85,92,97,101,103,109,113,116,118,122,127,140,142,144,145,150,156,157,159,162,170,172,175,181,187,193,196,198,200,202,204,210,214,215,222,230,231,235,236,239,240,241,242,243,247,249,251,252,253,255,258,261,263,266,267,268,271,272,278,283,285,293,299,301,302,310,312,313,315,316,317,318,319,331,333,334,337,346,352,354,355,356,363,365,367,369,374,382,386,389,390,392,395,397,401,402,403,404,406,413,416,418,419,424,425,432,434,436,441,443,447,449,452,453,458,467,476,477,489,490,491,492,493,494,496,497,499,501,504,505,511,516,519,521,523,532,536,538,545,548,556,558,563,567,568,569,571,575,578,583,588,593,601,602,608,612,613,614,615,618,619,623,625,626,632,634,636,638,641,642,643,650,653,658,666,670,671,674,679,680,681,696,706,710,713,716,717,725,726,728,739,744,747,756,758,759,760,764,768,772,774,776,778,779,780,781,786],\"xaxis\":\"x\",\"y\":[23.6287,24.65330000000003,28.91719972000002,29.05569989000004,29.517900150000006,28.72219966,28.25559947000001,28.83949963999999,28.72129980999999,28.066599760000013,28.351100040000006,29.597000009999977,30.871500370000017,30.274900199999987,30.39630017999999,27.515500319999997,28.761800119999993,27.839199909999994,27.79409985,28.620999659999992,28.10470014999998,28.736899939999997,29.241099829999982,29.265900039999973,27.644800089999976,27.627700099999974,28.06819996999997,27.76950005999998,27.06029992999997,27.20069986999995,26.156599969999988,24.915200099999996,24.538500099999986,22.273299789999996,21.382100109999996,21.559600070000016,21.560499790000023,22.156200180000006,22.610299799999996,23.050399590000005,23.05210010000001,23.275300190000006,23.013900599999975,22.886300459999983,22.517999969999984,19.92929987,17.24730013,17.155200160000003,18.066299799999996,17.48219982000001,18.545600470000007,20.42450049,22.428899980000004,22.006200189999994,20.517500650000002,18.75530018000001,19.060900250000017,19.420700240000016,20.584600520000002,20.831100300000013,21.350499989999992,21.149100320000006,22.204499909999992,22.567700390000024,20.69389988,20.493100399999992,20.459900439999995,20.54170030000002,20.458000480000013,20.77080004000002,20.77869982000001,20.976499779999997,20.92039976,20.95889979,21.49280022,21.48020030999999,21.409500309999988,21.35150002999999,21.36950025999999,21.123799869999992,19.78680023000001,19.90910056000001,18.048200670000018,16.615500089999994,16.56210008999999,16.330400079999993,14.195799990000005,13.691399990000011,15.053600009999993,15.779400009999996,16.001800079999988,13.049300000000015,8.718,7.604699999999997,6.8799,6.745200000000003,6.563499999999998,6.503199999999998,6.497199999999999,6.4954,6.772899999999998,6.939599999999995,7.075999999999996,7.4354,8.013600000000007,7.904000000000007,7.807399999999992,7.542200000000001,9.159300000000004,9.313500000000003,9.464700000000004,10.088899999999997,12.092899999999986,11.59019999999999,11.690899999999985,11.633999999999993,11.177200000000006,11.14440000000001,12.816600000000001,13.105199999999998,13.294900000000002,12.862700000000002,13.041799999999993,13.420399999999999,13.774099999999999,14.687300000000002,14.404399999999999,15.693200000000001,14.843300000000017,14.6945,15.111399999999973,15.097299999999978,14.675599999999998,14.162500000000005,14.082700000000004,13.093100000000007,12.408699999999994,11.8881,11.546400000000006,11.891600000000004,12.113399999999995,12.532899999999998,12.383999999999997,12.657699999999988,12.897599999999994,14.217099999999984,18.708400179999998,19.04559994,23.79880016000001,24.023500190000007,23.681000070000014,23.132800020000005,23.06960004,22.34510008,21.69120006,21.70170012,21.843699929999993,22.071500410000002,22.828100609999996,23.246600290000018,24.78689991000002,22.920400129999997,19.062099920000016,18.71429975000001,17.876900040000006,20.79400001000002,20.762699910000006,23.40500000000002,28.591800039999995,29.50290021999998,31.22379947,31.106099689999994,31.909899939999995,32.223600360000006,31.959700440000002,32.08060046000001,31.54250031999999,32.97289974999999,34.86369896000001,36.69980015999998,38.998199500000005,41.587099979999984,36.29649962000002,36.38269986999999,40.00850002000001,38.59550061000002,37.95420101000002,37.53250051000002,36.972100400000016,35.61900059999999,34.38830079,34.60179958,35.374699320000026,36.088899460000036,36.68370056000001,36.984000579999986,36.14850032,35.224899830000005,32.55710012,34.54069981999999,35.670399839999995,39.68660011000001,39.395999929999995,43.88659988999997,41.34240059999996,43.62280001000001,44.185100000000006,46.734399989999986,49.17689997999999,49.08559997999998,50.111400139999986,47.10869915999998,51.699400289999986,49.70529973,46.30219997000001,47.43380083,46.288399549999966,48.99350009000003,48.54050028000004,47.70110023000004,46.52110061999996,50.55729999999997,53.48230052000002,59.857400300000045,60.334999710000055,61.09820042000001,60.31960028000003,61.36309960000004,59.31159922,59.363700430000065,57.69150045000003,57.541299780000045,58.09479970000004,58.99130018000005,61.94220033000001,63.58750029,73.1812000500001],\"yaxis\":\"y\",\"type\":\"scatter\"}],                        {\"template\":{\"data\":{\"bar\":[{\"error_x\":{\"color\":\"#2a3f5f\"},\"error_y\":{\"color\":\"#2a3f5f\"},\"marker\":{\"line\":{\"color\":\"#E5ECF6\",\"width\":0.5},\"pattern\":{\"fillmode\":\"overlay\",\"size\":10,\"solidity\":0.2}},\"type\":\"bar\"}],\"barpolar\":[{\"marker\":{\"line\":{\"color\":\"#E5ECF6\",\"width\":0.5},\"pattern\":{\"fillmode\":\"overlay\",\"size\":10,\"solidity\":0.2}},\"type\":\"barpolar\"}],\"carpet\":[{\"aaxis\":{\"endlinecolor\":\"#2a3f5f\",\"gridcolor\":\"white\",\"linecolor\":\"white\",\"minorgridcolor\":\"white\",\"startlinecolor\":\"#2a3f5f\"},\"baxis\":{\"endlinecolor\":\"#2a3f5f\",\"gridcolor\":\"white\",\"linecolor\":\"white\",\"minorgridcolor\":\"white\",\"startlinecolor\":\"#2a3f5f\"},\"type\":\"carpet\"}],\"choropleth\":[{\"colorbar\":{\"outlinewidth\":0,\"ticks\":\"\"},\"type\":\"choropleth\"}],\"contour\":[{\"colorbar\":{\"outlinewidth\":0,\"ticks\":\"\"},\"colorscale\":[[0.0,\"#0d0887\"],[0.1111111111111111,\"#46039f\"],[0.2222222222222222,\"#7201a8\"],[0.3333333333333333,\"#9c179e\"],[0.4444444444444444,\"#bd3786\"],[0.5555555555555556,\"#d8576b\"],[0.6666666666666666,\"#ed7953\"],[0.7777777777777778,\"#fb9f3a\"],[0.8888888888888888,\"#fdca26\"],[1.0,\"#f0f921\"]],\"type\":\"contour\"}],\"contourcarpet\":[{\"colorbar\":{\"outlinewidth\":0,\"ticks\":\"\"},\"type\":\"contourcarpet\"}],\"heatmap\":[{\"colorbar\":{\"outlinewidth\":0,\"ticks\":\"\"},\"colorscale\":[[0.0,\"#0d0887\"],[0.1111111111111111,\"#46039f\"],[0.2222222222222222,\"#7201a8\"],[0.3333333333333333,\"#9c179e\"],[0.4444444444444444,\"#bd3786\"],[0.5555555555555556,\"#d8576b\"],[0.6666666666666666,\"#ed7953\"],[0.7777777777777778,\"#fb9f3a\"],[0.8888888888888888,\"#fdca26\"],[1.0,\"#f0f921\"]],\"type\":\"heatmap\"}],\"heatmapgl\":[{\"colorbar\":{\"outlinewidth\":0,\"ticks\":\"\"},\"colorscale\":[[0.0,\"#0d0887\"],[0.1111111111111111,\"#46039f\"],[0.2222222222222222,\"#7201a8\"],[0.3333333333333333,\"#9c179e\"],[0.4444444444444444,\"#bd3786\"],[0.5555555555555556,\"#d8576b\"],[0.6666666666666666,\"#ed7953\"],[0.7777777777777778,\"#fb9f3a\"],[0.8888888888888888,\"#fdca26\"],[1.0,\"#f0f921\"]],\"type\":\"heatmapgl\"}],\"histogram\":[{\"marker\":{\"pattern\":{\"fillmode\":\"overlay\",\"size\":10,\"solidity\":0.2}},\"type\":\"histogram\"}],\"histogram2d\":[{\"colorbar\":{\"outlinewidth\":0,\"ticks\":\"\"},\"colorscale\":[[0.0,\"#0d0887\"],[0.1111111111111111,\"#46039f\"],[0.2222222222222222,\"#7201a8\"],[0.3333333333333333,\"#9c179e\"],[0.4444444444444444,\"#bd3786\"],[0.5555555555555556,\"#d8576b\"],[0.6666666666666666,\"#ed7953\"],[0.7777777777777778,\"#fb9f3a\"],[0.8888888888888888,\"#fdca26\"],[1.0,\"#f0f921\"]],\"type\":\"histogram2d\"}],\"histogram2dcontour\":[{\"colorbar\":{\"outlinewidth\":0,\"ticks\":\"\"},\"colorscale\":[[0.0,\"#0d0887\"],[0.1111111111111111,\"#46039f\"],[0.2222222222222222,\"#7201a8\"],[0.3333333333333333,\"#9c179e\"],[0.4444444444444444,\"#bd3786\"],[0.5555555555555556,\"#d8576b\"],[0.6666666666666666,\"#ed7953\"],[0.7777777777777778,\"#fb9f3a\"],[0.8888888888888888,\"#fdca26\"],[1.0,\"#f0f921\"]],\"type\":\"histogram2dcontour\"}],\"mesh3d\":[{\"colorbar\":{\"outlinewidth\":0,\"ticks\":\"\"},\"type\":\"mesh3d\"}],\"parcoords\":[{\"line\":{\"colorbar\":{\"outlinewidth\":0,\"ticks\":\"\"}},\"type\":\"parcoords\"}],\"pie\":[{\"automargin\":true,\"type\":\"pie\"}],\"scatter\":[{\"marker\":{\"colorbar\":{\"outlinewidth\":0,\"ticks\":\"\"}},\"type\":\"scatter\"}],\"scatter3d\":[{\"line\":{\"colorbar\":{\"outlinewidth\":0,\"ticks\":\"\"}},\"marker\":{\"colorbar\":{\"outlinewidth\":0,\"ticks\":\"\"}},\"type\":\"scatter3d\"}],\"scattercarpet\":[{\"marker\":{\"colorbar\":{\"outlinewidth\":0,\"ticks\":\"\"}},\"type\":\"scattercarpet\"}],\"scattergeo\":[{\"marker\":{\"colorbar\":{\"outlinewidth\":0,\"ticks\":\"\"}},\"type\":\"scattergeo\"}],\"scattergl\":[{\"marker\":{\"colorbar\":{\"outlinewidth\":0,\"ticks\":\"\"}},\"type\":\"scattergl\"}],\"scattermapbox\":[{\"marker\":{\"colorbar\":{\"outlinewidth\":0,\"ticks\":\"\"}},\"type\":\"scattermapbox\"}],\"scatterpolar\":[{\"marker\":{\"colorbar\":{\"outlinewidth\":0,\"ticks\":\"\"}},\"type\":\"scatterpolar\"}],\"scatterpolargl\":[{\"marker\":{\"colorbar\":{\"outlinewidth\":0,\"ticks\":\"\"}},\"type\":\"scatterpolargl\"}],\"scatterternary\":[{\"marker\":{\"colorbar\":{\"outlinewidth\":0,\"ticks\":\"\"}},\"type\":\"scatterternary\"}],\"surface\":[{\"colorbar\":{\"outlinewidth\":0,\"ticks\":\"\"},\"colorscale\":[[0.0,\"#0d0887\"],[0.1111111111111111,\"#46039f\"],[0.2222222222222222,\"#7201a8\"],[0.3333333333333333,\"#9c179e\"],[0.4444444444444444,\"#bd3786\"],[0.5555555555555556,\"#d8576b\"],[0.6666666666666666,\"#ed7953\"],[0.7777777777777778,\"#fb9f3a\"],[0.8888888888888888,\"#fdca26\"],[1.0,\"#f0f921\"]],\"type\":\"surface\"}],\"table\":[{\"cells\":{\"fill\":{\"color\":\"#EBF0F8\"},\"line\":{\"color\":\"white\"}},\"header\":{\"fill\":{\"color\":\"#C8D4E3\"},\"line\":{\"color\":\"white\"}},\"type\":\"table\"}]},\"layout\":{\"annotationdefaults\":{\"arrowcolor\":\"#2a3f5f\",\"arrowhead\":0,\"arrowwidth\":1},\"autotypenumbers\":\"strict\",\"coloraxis\":{\"colorbar\":{\"outlinewidth\":0,\"ticks\":\"\"}},\"colorscale\":{\"diverging\":[[0,\"#8e0152\"],[0.1,\"#c51b7d\"],[0.2,\"#de77ae\"],[0.3,\"#f1b6da\"],[0.4,\"#fde0ef\"],[0.5,\"#f7f7f7\"],[0.6,\"#e6f5d0\"],[0.7,\"#b8e186\"],[0.8,\"#7fbc41\"],[0.9,\"#4d9221\"],[1,\"#276419\"]],\"sequential\":[[0.0,\"#0d0887\"],[0.1111111111111111,\"#46039f\"],[0.2222222222222222,\"#7201a8\"],[0.3333333333333333,\"#9c179e\"],[0.4444444444444444,\"#bd3786\"],[0.5555555555555556,\"#d8576b\"],[0.6666666666666666,\"#ed7953\"],[0.7777777777777778,\"#fb9f3a\"],[0.8888888888888888,\"#fdca26\"],[1.0,\"#f0f921\"]],\"sequentialminus\":[[0.0,\"#0d0887\"],[0.1111111111111111,\"#46039f\"],[0.2222222222222222,\"#7201a8\"],[0.3333333333333333,\"#9c179e\"],[0.4444444444444444,\"#bd3786\"],[0.5555555555555556,\"#d8576b\"],[0.6666666666666666,\"#ed7953\"],[0.7777777777777778,\"#fb9f3a\"],[0.8888888888888888,\"#fdca26\"],[1.0,\"#f0f921\"]]},\"colorway\":[\"#636efa\",\"#EF553B\",\"#00cc96\",\"#ab63fa\",\"#FFA15A\",\"#19d3f3\",\"#FF6692\",\"#B6E880\",\"#FF97FF\",\"#FECB52\"],\"font\":{\"color\":\"#2a3f5f\"},\"geo\":{\"bgcolor\":\"white\",\"lakecolor\":\"white\",\"landcolor\":\"#E5ECF6\",\"showlakes\":true,\"showland\":true,\"subunitcolor\":\"white\"},\"hoverlabel\":{\"align\":\"left\"},\"hovermode\":\"closest\",\"mapbox\":{\"style\":\"light\"},\"paper_bgcolor\":\"white\",\"plot_bgcolor\":\"#E5ECF6\",\"polar\":{\"angularaxis\":{\"gridcolor\":\"white\",\"linecolor\":\"white\",\"ticks\":\"\"},\"bgcolor\":\"#E5ECF6\",\"radialaxis\":{\"gridcolor\":\"white\",\"linecolor\":\"white\",\"ticks\":\"\"}},\"scene\":{\"xaxis\":{\"backgroundcolor\":\"#E5ECF6\",\"gridcolor\":\"white\",\"gridwidth\":2,\"linecolor\":\"white\",\"showbackground\":true,\"ticks\":\"\",\"zerolinecolor\":\"white\"},\"yaxis\":{\"backgroundcolor\":\"#E5ECF6\",\"gridcolor\":\"white\",\"gridwidth\":2,\"linecolor\":\"white\",\"showbackground\":true,\"ticks\":\"\",\"zerolinecolor\":\"white\"},\"zaxis\":{\"backgroundcolor\":\"#E5ECF6\",\"gridcolor\":\"white\",\"gridwidth\":2,\"linecolor\":\"white\",\"showbackground\":true,\"ticks\":\"\",\"zerolinecolor\":\"white\"}},\"shapedefaults\":{\"line\":{\"color\":\"#2a3f5f\"}},\"ternary\":{\"aaxis\":{\"gridcolor\":\"white\",\"linecolor\":\"white\",\"ticks\":\"\"},\"baxis\":{\"gridcolor\":\"white\",\"linecolor\":\"white\",\"ticks\":\"\"},\"bgcolor\":\"#E5ECF6\",\"caxis\":{\"gridcolor\":\"white\",\"linecolor\":\"white\",\"ticks\":\"\"}},\"title\":{\"x\":0.05},\"xaxis\":{\"automargin\":true,\"gridcolor\":\"white\",\"linecolor\":\"white\",\"ticks\":\"\",\"title\":{\"standoff\":15},\"zerolinecolor\":\"white\",\"zerolinewidth\":2},\"yaxis\":{\"automargin\":true,\"gridcolor\":\"white\",\"linecolor\":\"white\",\"ticks\":\"\",\"title\":{\"standoff\":15},\"zerolinecolor\":\"white\",\"zerolinewidth\":2}}},\"xaxis\":{\"anchor\":\"y\",\"domain\":[0.0,1.0],\"title\":{\"text\":\"x\"}},\"yaxis\":{\"anchor\":\"x\",\"domain\":[0.0,1.0],\"title\":{\"text\":\"y\"}},\"legend\":{\"tracegroupgap\":0},\"title\":{\"text\":\"Prediction\"}},                        {\"responsive\": true}                    ).then(function(){\n",
              "                            \n",
              "var gd = document.getElementById('d6c1f76e-b46a-4113-b39f-61a046d79a5e');\n",
              "var x = new MutationObserver(function (mutations, observer) {{\n",
              "        var display = window.getComputedStyle(gd).display;\n",
              "        if (!display || display === 'none') {{\n",
              "            console.log([gd, 'removed!']);\n",
              "            Plotly.purge(gd);\n",
              "            observer.disconnect();\n",
              "        }}\n",
              "}});\n",
              "\n",
              "// Listen for the removal of the full notebook cells\n",
              "var notebookContainer = gd.closest('#notebook-container');\n",
              "if (notebookContainer) {{\n",
              "    x.observe(notebookContainer, {childList: true});\n",
              "}}\n",
              "\n",
              "// Listen for the clearing of the current output cell\n",
              "var outputEl = gd.closest('.output');\n",
              "if (outputEl) {{\n",
              "    x.observe(outputEl, {childList: true});\n",
              "}}\n",
              "\n",
              "                        })                };                            </script>        </div>\n",
              "</body>\n",
              "</html>"
            ]
          },
          "metadata": {}
        },
        {
          "output_type": "display_data",
          "data": {
            "text/html": [
              "<html>\n",
              "<head><meta charset=\"utf-8\" /></head>\n",
              "<body>\n",
              "    <div>            <script src=\"https://cdnjs.cloudflare.com/ajax/libs/mathjax/2.7.5/MathJax.js?config=TeX-AMS-MML_SVG\"></script><script type=\"text/javascript\">if (window.MathJax) {MathJax.Hub.Config({SVG: {font: \"STIX-Web\"}});}</script>                <script type=\"text/javascript\">window.PlotlyConfig = {MathJaxConfig: 'local'};</script>\n",
              "        <script src=\"https://cdn.plot.ly/plotly-2.8.3.min.js\"></script>                <div id=\"b3814d50-60e1-4bcd-b5f7-d5b030acc7f1\" class=\"plotly-graph-div\" style=\"height:525px; width:100%;\"></div>            <script type=\"text/javascript\">                                    window.PLOTLYENV=window.PLOTLYENV || {};                                    if (document.getElementById(\"b3814d50-60e1-4bcd-b5f7-d5b030acc7f1\")) {                    Plotly.newPlot(                        \"b3814d50-60e1-4bcd-b5f7-d5b030acc7f1\",                        [{\"hovertemplate\":\"index=%{x}<br>y=%{y}<extra></extra>\",\"legendgroup\":\"\",\"line\":{\"color\":\"#636efa\",\"dash\":\"solid\"},\"marker\":{\"symbol\":\"circle\"},\"mode\":\"lines\",\"name\":\"\",\"orientation\":\"v\",\"showlegend\":false,\"x\":[453,85,545,312,334,14,196,235,55,31,122,172,258,619,532,567,75,40,416,401,181,272,333,301,156,27,492,781,103,318,519,239,268,369,230,614,425,418,382,653,716,489,79,615,193,413,8,618,725,638,563,786,764,602,150,674,521,200,441,578,671,1,317,476,113,680,583,759,523,726,636,397,670,548,658,641,240,252,283,666,367,319,404,310,642,571,776,266,556,696,434,355,588,18,575,285,255,679,271,241,50,222,756,302,569,162,39,706,215,650,278,10,623,68,424,458,516,392,365,142,2,780,231,632,477,447,758,293,374,728,511,242,253,713,496,247,717,204,71,49,419,145,116,37,768,48,202,331,601,267,643,452,76,64,626,52,346,593,608,504,236,249,772,210,243,118,12,157,568,175,386,497,612,97,747,494,739,760,436,432,467,538,299,613,499,17,443,354,778,634,389,316,779,681,170,187,710,406,45,337,62,78,263,315,505,140,198,352,558,127,744,395,403,144,214,449,21,625,491,35,501,159,536,77,390,490,356,109,251,313,101,363,402,92,261,493,774],\"xaxis\":\"x\",\"y\":[23.6287,24.65330000000003,28.91719972000002,29.05569989000004,29.517900150000006,28.72219966,28.25559947000001,28.83949963999999,28.72129980999999,28.066599760000013,28.351100040000006,29.597000009999977,30.871500370000017,30.274900199999987,30.39630017999999,27.515500319999997,28.761800119999993,27.839199909999994,27.79409985,28.620999659999992,28.10470014999998,28.736899939999997,29.241099829999982,29.265900039999973,27.644800089999976,27.627700099999974,28.06819996999997,27.76950005999998,27.06029992999997,27.20069986999995,26.156599969999988,24.915200099999996,24.538500099999986,22.273299789999996,21.382100109999996,21.559600070000016,21.560499790000023,22.156200180000006,22.610299799999996,23.050399590000005,23.05210010000001,23.275300190000006,23.013900599999975,22.886300459999983,22.517999969999984,19.92929987,17.24730013,17.155200160000003,18.066299799999996,17.48219982000001,18.545600470000007,20.42450049,22.428899980000004,22.006200189999994,20.517500650000002,18.75530018000001,19.060900250000017,19.420700240000016,20.584600520000002,20.831100300000013,21.350499989999992,21.149100320000006,22.204499909999992,22.567700390000024,20.69389988,20.493100399999992,20.459900439999995,20.54170030000002,20.458000480000013,20.77080004000002,20.77869982000001,20.976499779999997,20.92039976,20.95889979,21.49280022,21.48020030999999,21.409500309999988,21.35150002999999,21.36950025999999,21.123799869999992,19.78680023000001,19.90910056000001,18.048200670000018,16.615500089999994,16.56210008999999,16.330400079999993,14.195799990000005,13.691399990000011,15.053600009999993,15.779400009999996,16.001800079999988,13.049300000000015,8.718,7.604699999999997,6.8799,6.745200000000003,6.563499999999998,6.503199999999998,6.497199999999999,6.4954,6.772899999999998,6.939599999999995,7.075999999999996,7.4354,8.013600000000007,7.904000000000007,7.807399999999992,7.542200000000001,9.159300000000004,9.313500000000003,9.464700000000004,10.088899999999997,12.092899999999986,11.59019999999999,11.690899999999985,11.633999999999993,11.177200000000006,11.14440000000001,12.816600000000001,13.105199999999998,13.294900000000002,12.862700000000002,13.041799999999993,13.420399999999999,13.774099999999999,14.687300000000002,14.404399999999999,15.693200000000001,14.843300000000017,14.6945,15.111399999999973,15.097299999999978,14.675599999999998,14.162500000000005,14.082700000000004,13.093100000000007,12.408699999999994,11.8881,11.546400000000006,11.891600000000004,12.113399999999995,12.532899999999998,12.383999999999997,12.657699999999988,12.897599999999994,14.217099999999984,18.708400179999998,19.04559994,23.79880016000001,24.023500190000007,23.681000070000014,23.132800020000005,23.06960004,22.34510008,21.69120006,21.70170012,21.843699929999993,22.071500410000002,22.828100609999996,23.246600290000018,24.78689991000002,22.920400129999997,19.062099920000016,18.71429975000001,17.876900040000006,20.79400001000002,20.762699910000006,23.40500000000002,28.591800039999995,29.50290021999998,31.22379947,31.106099689999994,31.909899939999995,32.223600360000006,31.959700440000002,32.08060046000001,31.54250031999999,32.97289974999999,34.86369896000001,36.69980015999998,38.998199500000005,41.587099979999984,36.29649962000002,36.38269986999999,40.00850002000001,38.59550061000002,37.95420101000002,37.53250051000002,36.972100400000016,35.61900059999999,34.38830079,34.60179958,35.374699320000026,36.088899460000036,36.68370056000001,36.984000579999986,36.14850032,35.224899830000005,32.55710012,34.54069981999999,35.670399839999995,39.68660011000001,39.395999929999995,43.88659988999997,41.34240059999996,43.62280001000001,44.185100000000006,46.734399989999986,49.17689997999999,49.08559997999998,50.111400139999986,47.10869915999998,51.699400289999986,49.70529973,46.30219997000001,47.43380083,46.288399549999966,48.99350009000003,48.54050028000004,47.70110023000004,46.52110061999996,50.55729999999997,53.48230052000002,59.857400300000045,60.334999710000055,61.09820042000001,60.31960028000003,61.36309960000004,59.31159922,59.363700430000065,57.69150045000003,57.541299780000045,58.09479970000004,58.99130018000005,61.94220033000001,63.58750029,73.1812000500001],\"yaxis\":\"y\",\"type\":\"scatter\"}],                        {\"template\":{\"data\":{\"bar\":[{\"error_x\":{\"color\":\"#2a3f5f\"},\"error_y\":{\"color\":\"#2a3f5f\"},\"marker\":{\"line\":{\"color\":\"#E5ECF6\",\"width\":0.5},\"pattern\":{\"fillmode\":\"overlay\",\"size\":10,\"solidity\":0.2}},\"type\":\"bar\"}],\"barpolar\":[{\"marker\":{\"line\":{\"color\":\"#E5ECF6\",\"width\":0.5},\"pattern\":{\"fillmode\":\"overlay\",\"size\":10,\"solidity\":0.2}},\"type\":\"barpolar\"}],\"carpet\":[{\"aaxis\":{\"endlinecolor\":\"#2a3f5f\",\"gridcolor\":\"white\",\"linecolor\":\"white\",\"minorgridcolor\":\"white\",\"startlinecolor\":\"#2a3f5f\"},\"baxis\":{\"endlinecolor\":\"#2a3f5f\",\"gridcolor\":\"white\",\"linecolor\":\"white\",\"minorgridcolor\":\"white\",\"startlinecolor\":\"#2a3f5f\"},\"type\":\"carpet\"}],\"choropleth\":[{\"colorbar\":{\"outlinewidth\":0,\"ticks\":\"\"},\"type\":\"choropleth\"}],\"contour\":[{\"colorbar\":{\"outlinewidth\":0,\"ticks\":\"\"},\"colorscale\":[[0.0,\"#0d0887\"],[0.1111111111111111,\"#46039f\"],[0.2222222222222222,\"#7201a8\"],[0.3333333333333333,\"#9c179e\"],[0.4444444444444444,\"#bd3786\"],[0.5555555555555556,\"#d8576b\"],[0.6666666666666666,\"#ed7953\"],[0.7777777777777778,\"#fb9f3a\"],[0.8888888888888888,\"#fdca26\"],[1.0,\"#f0f921\"]],\"type\":\"contour\"}],\"contourcarpet\":[{\"colorbar\":{\"outlinewidth\":0,\"ticks\":\"\"},\"type\":\"contourcarpet\"}],\"heatmap\":[{\"colorbar\":{\"outlinewidth\":0,\"ticks\":\"\"},\"colorscale\":[[0.0,\"#0d0887\"],[0.1111111111111111,\"#46039f\"],[0.2222222222222222,\"#7201a8\"],[0.3333333333333333,\"#9c179e\"],[0.4444444444444444,\"#bd3786\"],[0.5555555555555556,\"#d8576b\"],[0.6666666666666666,\"#ed7953\"],[0.7777777777777778,\"#fb9f3a\"],[0.8888888888888888,\"#fdca26\"],[1.0,\"#f0f921\"]],\"type\":\"heatmap\"}],\"heatmapgl\":[{\"colorbar\":{\"outlinewidth\":0,\"ticks\":\"\"},\"colorscale\":[[0.0,\"#0d0887\"],[0.1111111111111111,\"#46039f\"],[0.2222222222222222,\"#7201a8\"],[0.3333333333333333,\"#9c179e\"],[0.4444444444444444,\"#bd3786\"],[0.5555555555555556,\"#d8576b\"],[0.6666666666666666,\"#ed7953\"],[0.7777777777777778,\"#fb9f3a\"],[0.8888888888888888,\"#fdca26\"],[1.0,\"#f0f921\"]],\"type\":\"heatmapgl\"}],\"histogram\":[{\"marker\":{\"pattern\":{\"fillmode\":\"overlay\",\"size\":10,\"solidity\":0.2}},\"type\":\"histogram\"}],\"histogram2d\":[{\"colorbar\":{\"outlinewidth\":0,\"ticks\":\"\"},\"colorscale\":[[0.0,\"#0d0887\"],[0.1111111111111111,\"#46039f\"],[0.2222222222222222,\"#7201a8\"],[0.3333333333333333,\"#9c179e\"],[0.4444444444444444,\"#bd3786\"],[0.5555555555555556,\"#d8576b\"],[0.6666666666666666,\"#ed7953\"],[0.7777777777777778,\"#fb9f3a\"],[0.8888888888888888,\"#fdca26\"],[1.0,\"#f0f921\"]],\"type\":\"histogram2d\"}],\"histogram2dcontour\":[{\"colorbar\":{\"outlinewidth\":0,\"ticks\":\"\"},\"colorscale\":[[0.0,\"#0d0887\"],[0.1111111111111111,\"#46039f\"],[0.2222222222222222,\"#7201a8\"],[0.3333333333333333,\"#9c179e\"],[0.4444444444444444,\"#bd3786\"],[0.5555555555555556,\"#d8576b\"],[0.6666666666666666,\"#ed7953\"],[0.7777777777777778,\"#fb9f3a\"],[0.8888888888888888,\"#fdca26\"],[1.0,\"#f0f921\"]],\"type\":\"histogram2dcontour\"}],\"mesh3d\":[{\"colorbar\":{\"outlinewidth\":0,\"ticks\":\"\"},\"type\":\"mesh3d\"}],\"parcoords\":[{\"line\":{\"colorbar\":{\"outlinewidth\":0,\"ticks\":\"\"}},\"type\":\"parcoords\"}],\"pie\":[{\"automargin\":true,\"type\":\"pie\"}],\"scatter\":[{\"marker\":{\"colorbar\":{\"outlinewidth\":0,\"ticks\":\"\"}},\"type\":\"scatter\"}],\"scatter3d\":[{\"line\":{\"colorbar\":{\"outlinewidth\":0,\"ticks\":\"\"}},\"marker\":{\"colorbar\":{\"outlinewidth\":0,\"ticks\":\"\"}},\"type\":\"scatter3d\"}],\"scattercarpet\":[{\"marker\":{\"colorbar\":{\"outlinewidth\":0,\"ticks\":\"\"}},\"type\":\"scattercarpet\"}],\"scattergeo\":[{\"marker\":{\"colorbar\":{\"outlinewidth\":0,\"ticks\":\"\"}},\"type\":\"scattergeo\"}],\"scattergl\":[{\"marker\":{\"colorbar\":{\"outlinewidth\":0,\"ticks\":\"\"}},\"type\":\"scattergl\"}],\"scattermapbox\":[{\"marker\":{\"colorbar\":{\"outlinewidth\":0,\"ticks\":\"\"}},\"type\":\"scattermapbox\"}],\"scatterpolar\":[{\"marker\":{\"colorbar\":{\"outlinewidth\":0,\"ticks\":\"\"}},\"type\":\"scatterpolar\"}],\"scatterpolargl\":[{\"marker\":{\"colorbar\":{\"outlinewidth\":0,\"ticks\":\"\"}},\"type\":\"scatterpolargl\"}],\"scatterternary\":[{\"marker\":{\"colorbar\":{\"outlinewidth\":0,\"ticks\":\"\"}},\"type\":\"scatterternary\"}],\"surface\":[{\"colorbar\":{\"outlinewidth\":0,\"ticks\":\"\"},\"colorscale\":[[0.0,\"#0d0887\"],[0.1111111111111111,\"#46039f\"],[0.2222222222222222,\"#7201a8\"],[0.3333333333333333,\"#9c179e\"],[0.4444444444444444,\"#bd3786\"],[0.5555555555555556,\"#d8576b\"],[0.6666666666666666,\"#ed7953\"],[0.7777777777777778,\"#fb9f3a\"],[0.8888888888888888,\"#fdca26\"],[1.0,\"#f0f921\"]],\"type\":\"surface\"}],\"table\":[{\"cells\":{\"fill\":{\"color\":\"#EBF0F8\"},\"line\":{\"color\":\"white\"}},\"header\":{\"fill\":{\"color\":\"#C8D4E3\"},\"line\":{\"color\":\"white\"}},\"type\":\"table\"}]},\"layout\":{\"annotationdefaults\":{\"arrowcolor\":\"#2a3f5f\",\"arrowhead\":0,\"arrowwidth\":1},\"autotypenumbers\":\"strict\",\"coloraxis\":{\"colorbar\":{\"outlinewidth\":0,\"ticks\":\"\"}},\"colorscale\":{\"diverging\":[[0,\"#8e0152\"],[0.1,\"#c51b7d\"],[0.2,\"#de77ae\"],[0.3,\"#f1b6da\"],[0.4,\"#fde0ef\"],[0.5,\"#f7f7f7\"],[0.6,\"#e6f5d0\"],[0.7,\"#b8e186\"],[0.8,\"#7fbc41\"],[0.9,\"#4d9221\"],[1,\"#276419\"]],\"sequential\":[[0.0,\"#0d0887\"],[0.1111111111111111,\"#46039f\"],[0.2222222222222222,\"#7201a8\"],[0.3333333333333333,\"#9c179e\"],[0.4444444444444444,\"#bd3786\"],[0.5555555555555556,\"#d8576b\"],[0.6666666666666666,\"#ed7953\"],[0.7777777777777778,\"#fb9f3a\"],[0.8888888888888888,\"#fdca26\"],[1.0,\"#f0f921\"]],\"sequentialminus\":[[0.0,\"#0d0887\"],[0.1111111111111111,\"#46039f\"],[0.2222222222222222,\"#7201a8\"],[0.3333333333333333,\"#9c179e\"],[0.4444444444444444,\"#bd3786\"],[0.5555555555555556,\"#d8576b\"],[0.6666666666666666,\"#ed7953\"],[0.7777777777777778,\"#fb9f3a\"],[0.8888888888888888,\"#fdca26\"],[1.0,\"#f0f921\"]]},\"colorway\":[\"#636efa\",\"#EF553B\",\"#00cc96\",\"#ab63fa\",\"#FFA15A\",\"#19d3f3\",\"#FF6692\",\"#B6E880\",\"#FF97FF\",\"#FECB52\"],\"font\":{\"color\":\"#2a3f5f\"},\"geo\":{\"bgcolor\":\"white\",\"lakecolor\":\"white\",\"landcolor\":\"#E5ECF6\",\"showlakes\":true,\"showland\":true,\"subunitcolor\":\"white\"},\"hoverlabel\":{\"align\":\"left\"},\"hovermode\":\"closest\",\"mapbox\":{\"style\":\"light\"},\"paper_bgcolor\":\"white\",\"plot_bgcolor\":\"#E5ECF6\",\"polar\":{\"angularaxis\":{\"gridcolor\":\"white\",\"linecolor\":\"white\",\"ticks\":\"\"},\"bgcolor\":\"#E5ECF6\",\"radialaxis\":{\"gridcolor\":\"white\",\"linecolor\":\"white\",\"ticks\":\"\"}},\"scene\":{\"xaxis\":{\"backgroundcolor\":\"#E5ECF6\",\"gridcolor\":\"white\",\"gridwidth\":2,\"linecolor\":\"white\",\"showbackground\":true,\"ticks\":\"\",\"zerolinecolor\":\"white\"},\"yaxis\":{\"backgroundcolor\":\"#E5ECF6\",\"gridcolor\":\"white\",\"gridwidth\":2,\"linecolor\":\"white\",\"showbackground\":true,\"ticks\":\"\",\"zerolinecolor\":\"white\"},\"zaxis\":{\"backgroundcolor\":\"#E5ECF6\",\"gridcolor\":\"white\",\"gridwidth\":2,\"linecolor\":\"white\",\"showbackground\":true,\"ticks\":\"\",\"zerolinecolor\":\"white\"}},\"shapedefaults\":{\"line\":{\"color\":\"#2a3f5f\"}},\"ternary\":{\"aaxis\":{\"gridcolor\":\"white\",\"linecolor\":\"white\",\"ticks\":\"\"},\"baxis\":{\"gridcolor\":\"white\",\"linecolor\":\"white\",\"ticks\":\"\"},\"bgcolor\":\"#E5ECF6\",\"caxis\":{\"gridcolor\":\"white\",\"linecolor\":\"white\",\"ticks\":\"\"}},\"title\":{\"x\":0.05},\"xaxis\":{\"automargin\":true,\"gridcolor\":\"white\",\"linecolor\":\"white\",\"ticks\":\"\",\"title\":{\"standoff\":15},\"zerolinecolor\":\"white\",\"zerolinewidth\":2},\"yaxis\":{\"automargin\":true,\"gridcolor\":\"white\",\"linecolor\":\"white\",\"ticks\":\"\",\"title\":{\"standoff\":15},\"zerolinecolor\":\"white\",\"zerolinewidth\":2}}},\"xaxis\":{\"anchor\":\"y\",\"domain\":[0.0,1.0],\"title\":{\"text\":\"index\"}},\"yaxis\":{\"anchor\":\"x\",\"domain\":[0.0,1.0],\"title\":{\"text\":\"y\"}},\"legend\":{\"tracegroupgap\":0},\"title\":{\"text\":\"Actual\"}},                        {\"responsive\": true}                    ).then(function(){\n",
              "                            \n",
              "var gd = document.getElementById('b3814d50-60e1-4bcd-b5f7-d5b030acc7f1');\n",
              "var x = new MutationObserver(function (mutations, observer) {{\n",
              "        var display = window.getComputedStyle(gd).display;\n",
              "        if (!display || display === 'none') {{\n",
              "            console.log([gd, 'removed!']);\n",
              "            Plotly.purge(gd);\n",
              "            observer.disconnect();\n",
              "        }}\n",
              "}});\n",
              "\n",
              "// Listen for the removal of the full notebook cells\n",
              "var notebookContainer = gd.closest('#notebook-container');\n",
              "if (notebookContainer) {{\n",
              "    x.observe(notebookContainer, {childList: true});\n",
              "}}\n",
              "\n",
              "// Listen for the clearing of the current output cell\n",
              "var outputEl = gd.closest('.output');\n",
              "if (outputEl) {{\n",
              "    x.observe(outputEl, {childList: true});\n",
              "}}\n",
              "\n",
              "                        })                };                            </script>        </div>\n",
              "</body>\n",
              "</html>"
            ]
          },
          "metadata": {}
        }
      ]
    },
    {
      "cell_type": "code",
      "source": [
        "x_test.index"
      ],
      "metadata": {
        "id": "69z_JLbYMqg5",
        "outputId": "46509078-3080-45f4-bba1-a1a14bb3aca1",
        "colab": {
          "base_uri": "https://localhost:8080/"
        }
      },
      "execution_count": 64,
      "outputs": [
        {
          "output_type": "execute_result",
          "data": {
            "text/plain": [
              "Int64Index([453,  85, 545, 312, 334,  14, 196, 235,  55,  31,\n",
              "            ...\n",
              "            173, 178, 761, 630, 206, 465,  96, 698, 604, 624],\n",
              "           dtype='int64', length=316)"
            ]
          },
          "metadata": {},
          "execution_count": 64
        }
      ]
    },
    {
      "cell_type": "code",
      "source": [
        ""
      ],
      "metadata": {
        "id": "8s3yym0JLth9"
      },
      "execution_count": 65,
      "outputs": []
    },
    {
      "cell_type": "markdown",
      "source": [
        "#Test Block"
      ],
      "metadata": {
        "id": "hDMxZUBYbubN"
      }
    },
    {
      "cell_type": "code",
      "source": [
        "import plotly.express as px\n",
        "import pandas as pd"
      ],
      "metadata": {
        "id": "tn9gKbKsbxle"
      },
      "execution_count": 47,
      "outputs": []
    },
    {
      "cell_type": "code",
      "source": [
        "from numpy.lib import type_check\n",
        "df = pd.read_csv('./tickers/AA.csv')\n",
        "print(slope_calc(df.iloc[:,0],df['EMA13']))\n",
        "# df['EMA13_SLOPE'] = slope_calc(df.iloc[:,0],df['EMA13'])\n",
        "print(df['EMA13_SLOPE'])\n",
        "# df.rename_axis('index1').reset_index()\n",
        "# fig1 = px.line(df, x=\"Date\", y=\"HMA_AVG\", title=\"HMA_AVG\")\n",
        "# fig1.add_ohlc(open=df['Open'], high=df['High'], low=df['Low'], close=df['Close'], x=df[\"Date\"],name=\"OHLC\")\n",
        "# fig1.update_layout()\n",
        "\n",
        "#fig1.show()\n",
        "\n",
        "# fig2 = px.line(df, x=\"Date\", y=\"OPENCLOSEDIFF_EMA_5\", title=\"OPENCLOSEDIFF MOVING AVERAGE - 5 DAYS PERIOD\")\n",
        "# fig2.add_hline(y=0, line_width=3, line_dash=\"dash\", line_color=\"green\")\n",
        "\n",
        "#fig2.show()"
      ],
      "metadata": {
        "colab": {
          "base_uri": "https://localhost:8080/"
        },
        "id": "WHLl6HIlcELv",
        "outputId": "c69df9c9-c10c-4cfa-a15c-f6749caa21f5"
      },
      "execution_count": null,
      "outputs": [
        {
          "output_type": "stream",
          "name": "stdout",
          "text": [
            "nan\n",
            "0      0.037405\n",
            "1      0.037405\n",
            "2      0.037405\n",
            "3      0.037405\n",
            "4      0.037405\n",
            "         ...   \n",
            "782    0.037405\n",
            "783    0.037405\n",
            "784    0.037405\n",
            "785    0.037405\n",
            "786    0.037405\n",
            "Name: EMA13_SLOPE, Length: 787, dtype: float64\n"
          ]
        }
      ]
    }
  ],
  "metadata": {
    "colab": {
      "collapsed_sections": [],
      "name": "stock_analysis.ipynb",
      "provenance": [],
      "include_colab_link": true
    },
    "kernelspec": {
      "display_name": "Python 3 (ipykernel)",
      "language": "python",
      "name": "python3"
    },
    "language_info": {
      "codemirror_mode": {
        "name": "ipython",
        "version": 3
      },
      "file_extension": ".py",
      "mimetype": "text/x-python",
      "name": "python",
      "nbconvert_exporter": "python",
      "pygments_lexer": "ipython3",
      "version": "3.9.7"
    }
  },
  "nbformat": 4,
  "nbformat_minor": 0
}