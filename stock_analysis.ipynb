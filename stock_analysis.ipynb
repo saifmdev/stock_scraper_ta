{
  "cells": [
    {
      "cell_type": "markdown",
      "metadata": {
        "id": "view-in-github",
        "colab_type": "text"
      },
      "source": [
        "<a href=\"https://colab.research.google.com/github/saifmdev/stock_scraper_ta/blob/main/stock_analysis.ipynb\" target=\"_parent\"><img src=\"https://colab.research.google.com/assets/colab-badge.svg\" alt=\"Open In Colab\"/></a>"
      ]
    },
    {
      "cell_type": "markdown",
      "metadata": {
        "id": "2F4AN3W_Yj53"
      },
      "source": [
        "#Simple OHLC Chart with Moving Average Band -Pandas and Plotly"
      ]
    },
    {
      "cell_type": "markdown",
      "metadata": {
        "id": "b1ui6GnY2oIv"
      },
      "source": [
        "##Run this command if 'ta' library now installed"
      ]
    },
    {
      "cell_type": "code",
      "execution_count": null,
      "metadata": {
        "id": "jVjjDITF2vg-"
      },
      "outputs": [],
      "source": [
        "pip install ta"
      ]
    },
    {
      "cell_type": "code",
      "execution_count": null,
      "metadata": {
        "id": "CWhhIcpBCTOE"
      },
      "outputs": [],
      "source": [
        "pip install plotly "
      ]
    },
    {
      "cell_type": "markdown",
      "metadata": {
        "id": "APMUUHGerIJ7"
      },
      "source": [
        "##Import Libraries"
      ]
    },
    {
      "cell_type": "code",
      "execution_count": null,
      "metadata": {
        "id": "muYcOZ5brMbk"
      },
      "outputs": [],
      "source": [
        "from ta.trend import ema_indicator as ema\n",
        "from ta.volume import volume_weighted_average_price as vwap\n",
        "from ta.momentum import rsi\n",
        "import plotly.graph_objects as go\n",
        "import plotly.express as px\n",
        "import pandas as pd\n",
        "from datetime import date, datetime\n",
        "import time\n"
      ]
    },
    {
      "cell_type": "code",
      "execution_count": null,
      "metadata": {
        "id": "ha2u5mNhYlfQ"
      },
      "outputs": [],
      "source": [
        "#Sample list of tickers\n",
        "tickers = ['AA','MSFT', 'FB', 'TSLA', 'GOOG', 'AMZN']\n",
        "\n",
        "#create from and to timestamps in epoch\n",
        "current  = date.today().strftime('%s')\n",
        "past = int(datetime(2019,12,1,0,0).timestamp())\n",
        "\n",
        "#loop through tickers and query yahoo finance website to get .csv \n",
        "for ticker in tickers:\n",
        "  link = f\"https://query1.finance.yahoo.com/v7/finance/download/{ticker}?period1={past}&period2={current}&interval=1d&events=history&includeAdjustedClose=true\"\n",
        "  df = pd.read_csv(link)\n",
        "  df['EMA13'] = ema(df['Close'],13)\n",
        "  df['EMA21'] = ema(df['Close'],21)\n",
        "  df['EMA34'] = ema(df['Close'],34)\n",
        "  df['EMA55'] = ema(df['Close'],55)\n",
        "  df['EMA89'] = ema(df['Close'],89)\n",
        "  df['EMA144'] = ema(df['Close'],144)\n",
        "  df['VWAP'] = vwap(df['High'], df['Low'],df['Close'], df['Volume'],5)\n",
        "  fig = px.line(df, x=\"Date\", y=\"EMA13\", title=ticker, labels={ticker})\n",
        "  fig.add_scatter(x=df['Date'], y=df['EMA21'], mode='lines', name=\"EMA21\")\n",
        "  fig.add_scatter(x=df['Date'], y=df['EMA34'], mode='lines', name=\"EMA34\")\n",
        "  fig.add_scatter(x=df['Date'], y=df['EMA55'], mode='lines', name=\"EMA55\")\n",
        "  fig.add_scatter(x=df['Date'], y=df['EMA89'], mode='lines', name=\"EMA89\")\n",
        "  fig.add_scatter(x=df['Date'], y=df['EMA144'], mode='lines', name=\"EMA144\")\n",
        "  fig.add_scatter(x=df['Date'], y=df['VWAP'], mode='lines', name=\"VWAP\")\n",
        "  fig.add_ohlc(open=df['Open'], high=df['High'], low=df['Low'], close=df['Close'], x=df[\"Date\"],name=\"OHLC\")\n",
        "  fig.update_layout(\n",
        "    yaxis_title='Price in $USD'\n",
        "  )\n",
        "\n",
        "  fig.show()"
      ]
    },
    {
      "cell_type": "markdown",
      "source": [
        "#YAHOO! Finance Web Scraper + INDICATOR CALCULATIONS"
      ],
      "metadata": {
        "id": "-tbxASKVwHYa"
      }
    },
    {
      "cell_type": "markdown",
      "metadata": {
        "id": "9zFvcnudBuQD"
      },
      "source": [
        "##Run this command if 'ta' library not installed"
      ]
    },
    {
      "cell_type": "code",
      "execution_count": 1,
      "metadata": {
        "id": "UBtfLqqLBoPS",
        "colab": {
          "base_uri": "https://localhost:8080/"
        },
        "outputId": "75cae7eb-1a3f-4da4-b481-5150e497cad2"
      },
      "outputs": [
        {
          "output_type": "stream",
          "name": "stdout",
          "text": [
            "Collecting ta\n",
            "  Downloading ta-0.9.0.tar.gz (25 kB)\n",
            "Requirement already satisfied: numpy in /usr/local/lib/python3.7/dist-packages (from ta) (1.19.5)\n",
            "Requirement already satisfied: pandas in /usr/local/lib/python3.7/dist-packages (from ta) (1.3.5)\n",
            "Requirement already satisfied: python-dateutil>=2.7.3 in /usr/local/lib/python3.7/dist-packages (from pandas->ta) (2.8.2)\n",
            "Requirement already satisfied: pytz>=2017.3 in /usr/local/lib/python3.7/dist-packages (from pandas->ta) (2018.9)\n",
            "Requirement already satisfied: six>=1.5 in /usr/local/lib/python3.7/dist-packages (from python-dateutil>=2.7.3->pandas->ta) (1.15.0)\n",
            "Building wheels for collected packages: ta\n",
            "  Building wheel for ta (setup.py) ... \u001b[?25l\u001b[?25hdone\n",
            "  Created wheel for ta: filename=ta-0.9.0-py3-none-any.whl size=28908 sha256=f9ef0030d774ffa0a5a369f0c7c02d8cbac5df9a4a8d0630749c3602d95a214d\n",
            "  Stored in directory: /root/.cache/pip/wheels/72/78/64/cc1c01506a1010a9845e9bd7c69333730f7174661228ea4f98\n",
            "Successfully built ta\n",
            "Installing collected packages: ta\n",
            "Successfully installed ta-0.9.0\n"
          ]
        }
      ],
      "source": [
        "pip install ta"
      ]
    },
    {
      "cell_type": "markdown",
      "source": [
        "##Run this command if 'plotly' library not installed"
      ],
      "metadata": {
        "id": "q2K5Gq3EZeRX"
      }
    },
    {
      "cell_type": "code",
      "source": [
        "pip install plotly"
      ],
      "metadata": {
        "id": "n_ad-zTOZdwj",
        "colab": {
          "base_uri": "https://localhost:8080/"
        },
        "outputId": "180360ac-cc41-4253-f9e3-a5194def5f58"
      },
      "execution_count": 2,
      "outputs": [
        {
          "output_type": "stream",
          "name": "stdout",
          "text": [
            "Requirement already satisfied: plotly in /usr/local/lib/python3.7/dist-packages (5.5.0)\n",
            "Requirement already satisfied: tenacity>=6.2.0 in /usr/local/lib/python3.7/dist-packages (from plotly) (8.0.1)\n",
            "Requirement already satisfied: six in /usr/local/lib/python3.7/dist-packages (from plotly) (1.15.0)\n"
          ]
        }
      ]
    },
    {
      "cell_type": "markdown",
      "metadata": {
        "id": "Yt9XA81znaGF"
      },
      "source": [
        "##Import Libraries"
      ]
    },
    {
      "cell_type": "code",
      "execution_count": 41,
      "metadata": {
        "id": "_viAueZ0nja5"
      },
      "outputs": [],
      "source": [
        "from datetime import date, datetime\n",
        "from ta.trend import ema_indicator as ema, sma_indicator as sma, wma_indicator as wma, macd,macd_diff,macd_signal\n",
        "from ta.volume import volume_weighted_average_price as vwap, on_balance_volume as obv\n",
        "from ta.momentum import rsi\n",
        "from ta.volatility import average_true_range as atr\n",
        "from urllib.error import HTTPError\n",
        "from pathlib import Path\n",
        "import plotly.graph_objects as go\n",
        "import plotly.express as px\n",
        "import pandas as pd\n",
        "import numpy as np\n",
        "from scipy.stats import linregress\n",
        "import os\n",
        "import shutil\n",
        "import time"
      ]
    },
    {
      "cell_type": "code",
      "source": [
        "#Hull Moving Average Calculation using Weighted Moving Average (Fibonacci Band - 13,34,55,89,144)\n",
        "\n",
        "def hma(s, period):\n",
        "  return wma(wma(s, period//2).multiply(2).sub(wma(s, period)), int(np.sqrt(period)))"
      ],
      "metadata": {
        "id": "4MOOJqBffJOX"
      },
      "execution_count": 42,
      "outputs": []
    },
    {
      "cell_type": "code",
      "source": [
        "#Calculate Slope of a given line\n",
        "\n",
        "def slope_calc(x,y):\n",
        "  slope, intercept, r_value, p_value, std_err = linregress(x, y)\n",
        "  return slope"
      ],
      "metadata": {
        "id": "E6COmhTKhrdF"
      },
      "execution_count": 43,
      "outputs": []
    },
    {
      "cell_type": "code",
      "execution_count": 15,
      "metadata": {
        "id": "iqBVkcLhoryB",
        "colab": {
          "base_uri": "https://localhost:8080/",
          "height": 404
        },
        "outputId": "f8784892-1424-46be-9acc-94cd24a3b1c8"
      },
      "outputs": [
        {
          "output_type": "error",
          "ename": "TypeError",
          "evalue": "ignored",
          "traceback": [
            "\u001b[0;31m---------------------------------------------------------------------------\u001b[0m",
            "\u001b[0;31mTypeError\u001b[0m                                 Traceback (most recent call last)",
            "\u001b[0;32m<ipython-input-15-90a56f3cf290>\u001b[0m in \u001b[0;36m<module>\u001b[0;34m()\u001b[0m\n\u001b[1;32m     34\u001b[0m     \u001b[0;31m#Calculate Exponential Moving Average Fibonacci Band and Calculate Average of all values combined - TREND IND.\u001b[0m\u001b[0;34m\u001b[0m\u001b[0;34m\u001b[0m\u001b[0;34m\u001b[0m\u001b[0m\n\u001b[1;32m     35\u001b[0m     \u001b[0mdata\u001b[0m\u001b[0;34m[\u001b[0m\u001b[0;34m'EMA13'\u001b[0m\u001b[0;34m]\u001b[0m \u001b[0;34m=\u001b[0m \u001b[0mema\u001b[0m\u001b[0;34m(\u001b[0m\u001b[0mdata\u001b[0m\u001b[0;34m[\u001b[0m\u001b[0;34m'Close'\u001b[0m\u001b[0;34m]\u001b[0m\u001b[0;34m,\u001b[0m\u001b[0;36m13\u001b[0m\u001b[0;34m)\u001b[0m\u001b[0;34m\u001b[0m\u001b[0;34m\u001b[0m\u001b[0m\n\u001b[0;32m---> 36\u001b[0;31m     \u001b[0mdata\u001b[0m\u001b[0;34m[\u001b[0m\u001b[0;34m'EMA13_SLOPE'\u001b[0m\u001b[0;34m]\u001b[0m \u001b[0;34m=\u001b[0m \u001b[0mslope\u001b[0m\u001b[0;34m(\u001b[0m\u001b[0mdata\u001b[0m\u001b[0;34m[\u001b[0m\u001b[0;34m'Close'\u001b[0m\u001b[0;34m]\u001b[0m\u001b[0;34m)\u001b[0m\u001b[0;34m\u001b[0m\u001b[0;34m\u001b[0m\u001b[0m\n\u001b[0m\u001b[1;32m     37\u001b[0m     \u001b[0mdata\u001b[0m\u001b[0;34m[\u001b[0m\u001b[0;34m'EMA21'\u001b[0m\u001b[0;34m]\u001b[0m \u001b[0;34m=\u001b[0m \u001b[0mema\u001b[0m\u001b[0;34m(\u001b[0m\u001b[0mdata\u001b[0m\u001b[0;34m[\u001b[0m\u001b[0;34m'Close'\u001b[0m\u001b[0;34m]\u001b[0m\u001b[0;34m,\u001b[0m\u001b[0;36m21\u001b[0m\u001b[0;34m)\u001b[0m\u001b[0;34m\u001b[0m\u001b[0;34m\u001b[0m\u001b[0m\n\u001b[1;32m     38\u001b[0m     \u001b[0mdata\u001b[0m\u001b[0;34m[\u001b[0m\u001b[0;34m'EMA34'\u001b[0m\u001b[0;34m]\u001b[0m \u001b[0;34m=\u001b[0m \u001b[0mema\u001b[0m\u001b[0;34m(\u001b[0m\u001b[0mdata\u001b[0m\u001b[0;34m[\u001b[0m\u001b[0;34m'Close'\u001b[0m\u001b[0;34m]\u001b[0m\u001b[0;34m,\u001b[0m\u001b[0;36m34\u001b[0m\u001b[0;34m)\u001b[0m\u001b[0;34m\u001b[0m\u001b[0;34m\u001b[0m\u001b[0m\n",
            "\u001b[0;32m<ipython-input-13-ad9f9a3d460c>\u001b[0m in \u001b[0;36mslope\u001b[0;34m(y)\u001b[0m\n\u001b[1;32m      3\u001b[0m \u001b[0;32mdef\u001b[0m \u001b[0mslope\u001b[0m\u001b[0;34m(\u001b[0m\u001b[0my\u001b[0m\u001b[0;34m)\u001b[0m\u001b[0;34m:\u001b[0m\u001b[0;34m\u001b[0m\u001b[0;34m\u001b[0m\u001b[0m\n\u001b[1;32m      4\u001b[0m   \u001b[0mx\u001b[0m\u001b[0;34m=\u001b[0m \u001b[0;36m1\u001b[0m\u001b[0;34m\u001b[0m\u001b[0;34m\u001b[0m\u001b[0m\n\u001b[0;32m----> 5\u001b[0;31m   \u001b[0mslope\u001b[0m\u001b[0;34m,\u001b[0m \u001b[0mintercept\u001b[0m\u001b[0;34m,\u001b[0m \u001b[0mr_value\u001b[0m\u001b[0;34m,\u001b[0m \u001b[0mp_value\u001b[0m\u001b[0;34m,\u001b[0m \u001b[0mstd_err\u001b[0m \u001b[0;34m=\u001b[0m \u001b[0mlinregress\u001b[0m\u001b[0;34m(\u001b[0m\u001b[0mx\u001b[0m\u001b[0;34m,\u001b[0m \u001b[0my\u001b[0m\u001b[0;34m)\u001b[0m\u001b[0;34m\u001b[0m\u001b[0;34m\u001b[0m\u001b[0m\n\u001b[0m\u001b[1;32m      6\u001b[0m   \u001b[0mx\u001b[0m \u001b[0;34m+=\u001b[0m \u001b[0;36m1\u001b[0m\u001b[0;34m\u001b[0m\u001b[0;34m\u001b[0m\u001b[0m\n\u001b[1;32m      7\u001b[0m   \u001b[0;32mreturn\u001b[0m \u001b[0mslope\u001b[0m\u001b[0;34m\u001b[0m\u001b[0;34m\u001b[0m\u001b[0m\n",
            "\u001b[0;32m/usr/local/lib/python3.7/dist-packages/scipy/stats/_stats_mstats_common.py\u001b[0m in \u001b[0;36mlinregress\u001b[0;34m(x, y)\u001b[0m\n\u001b[1;32m    109\u001b[0m         \u001b[0;32mraise\u001b[0m \u001b[0mValueError\u001b[0m\u001b[0;34m(\u001b[0m\u001b[0;34m\"Inputs must not be empty.\"\u001b[0m\u001b[0;34m)\u001b[0m\u001b[0;34m\u001b[0m\u001b[0;34m\u001b[0m\u001b[0m\n\u001b[1;32m    110\u001b[0m \u001b[0;34m\u001b[0m\u001b[0m\n\u001b[0;32m--> 111\u001b[0;31m     \u001b[0mn\u001b[0m \u001b[0;34m=\u001b[0m \u001b[0mlen\u001b[0m\u001b[0;34m(\u001b[0m\u001b[0mx\u001b[0m\u001b[0;34m)\u001b[0m\u001b[0;34m\u001b[0m\u001b[0;34m\u001b[0m\u001b[0m\n\u001b[0m\u001b[1;32m    112\u001b[0m     \u001b[0mxmean\u001b[0m \u001b[0;34m=\u001b[0m \u001b[0mnp\u001b[0m\u001b[0;34m.\u001b[0m\u001b[0mmean\u001b[0m\u001b[0;34m(\u001b[0m\u001b[0mx\u001b[0m\u001b[0;34m,\u001b[0m \u001b[0;32mNone\u001b[0m\u001b[0;34m)\u001b[0m\u001b[0;34m\u001b[0m\u001b[0;34m\u001b[0m\u001b[0m\n\u001b[1;32m    113\u001b[0m     \u001b[0mymean\u001b[0m \u001b[0;34m=\u001b[0m \u001b[0mnp\u001b[0m\u001b[0;34m.\u001b[0m\u001b[0mmean\u001b[0m\u001b[0;34m(\u001b[0m\u001b[0my\u001b[0m\u001b[0;34m,\u001b[0m \u001b[0;32mNone\u001b[0m\u001b[0;34m)\u001b[0m\u001b[0;34m\u001b[0m\u001b[0;34m\u001b[0m\u001b[0m\n",
            "\u001b[0;31mTypeError\u001b[0m: len() of unsized object"
          ]
        }
      ],
      "source": [
        "#Set from and to date in epoch format (int)\n",
        "current  = date.today().strftime('%s')\n",
        "past = int(datetime(2019,1,1,0,0).timestamp())\n",
        "\n",
        "#Get tickers from csv and convert to numpy array\n",
        "ticker_list = 'https://drive.google.com/uc?export=download&id=1xzFbp9nmKQL0vz2F_BkVzdZercgLfEsq'\n",
        "tickers_df = pd.read_csv(ticker_list)\n",
        "tickers = tickers_df['Symbol'].to_numpy()\n",
        "\n",
        "#Set OPENCLOSEDIFF_AVG Period\n",
        "open_close_diff_period = 5\n",
        "open_close_diff_SMA_period = 3\n",
        "\n",
        "#remove existing directory and create new empty one for update\n",
        "try:\n",
        "    p = Path('/tickers')\n",
        "    if p.exists():\n",
        "      shutil.rmtree('./tickers')\n",
        "    time.sleep(0.5)\n",
        "    os.makedirs('tickers', exist_ok=True)  \n",
        "except OSError as e:\n",
        "    print(\"Error: %s - %s.\" % (e.filename, e.strerror))\n",
        "\n",
        "#Loop through array of tickers to make queries to Yahoo Finance and save results as .csv\n",
        "for ticker in tickers:\n",
        "  try:\n",
        "    link = f\"https://query1.finance.yahoo.com/v7/finance/download/{ticker}?period1={past}&period2={current}&interval=1d&events=history&includeAdjustedClose=true\"\n",
        "    # time.sleep(1)\n",
        "    data = pd.read_csv(link)\n",
        "    #Calculate Difference between Close and Open and Moving Average for smoothing (Period: 5)\n",
        "    data['OPENCLOSEDIFF'] = data['Close'] - data['Open']\n",
        "    data['OPENCLOSEDIFF_EMA_5'] = ema(data['OPENCLOSEDIFF'],open_close_diff_period)\n",
        "    # data['OPENCLOSEDIFF_SMA_AVG_3'] = sma(data['OPENCLOSEDIFF_SMA_5'],open_close_diff_SMA_period)\n",
        "    #Calculate Exponential Moving Average Fibonacci Band and Calculate Average of all values combined - TREND IND.\n",
        "    data['EMA13'] = ema(data['Close'],13)\n",
        "    data['EMA13_SLOPE'] = slope(data['Close'])\n",
        "    data['EMA21'] = ema(data['Close'],21)\n",
        "    data['EMA34'] = ema(data['Close'],34)\n",
        "    data['EMA55'] = ema(data['Close'],55)\n",
        "    data['EMA89'] = ema(data['Close'],89)\n",
        "    data['EMA144'] = ema(data['Close'],144)\n",
        "    data['EMA_AVG'] = (data['EMA13'] + data['EMA34'] + data['EMA55'] + data['EMA89'] + data['EMA144'])/5\n",
        "    #Calculate Hull Moving Average Fibonacci Band and Calculate Average of all values combined - TREND IND.\n",
        "    data['HMA13'] = hma(data['Close'],13)\n",
        "    data['HMA34'] = hma(data['Close'],34)\n",
        "    data['HMA55'] = hma(data['Close'],55)\n",
        "    data['HMA89'] = hma(data['Close'],89)\n",
        "    data['HMA144'] = hma(data['Close'],144)\n",
        "    data['HMA_AVG'] = (data['HMA13'] + data['HMA34'] + data['HMA55'] + data['HMA89'] + data['HMA144'])/5\n",
        "    #Calculate MACD, MACD Signal Line and MACD Histogram - TREND IND.\n",
        "    data['MACD'] = macd(data['Close'],26,12)\n",
        "    data['MACD_Signal'] = macd_signal(data['Close'],26,12)\n",
        "    data['MACD_Histogram'] = macd_diff(data['Close'],26,12)\n",
        "    #Calculate OBV\n",
        "    data['OBV'] = obv(data['Close'], data['Volume'])\n",
        "    data['OBV_EMA_13'] = ema(data['OBV'],13)\n",
        "    data['OBV_EMA_34'] = ema(data['OBV'],34)\n",
        "    data['OBV_EMA_55'] = ema(data['OBV'],55)\n",
        "    #Calculate VWAP - VOLUME IND.\n",
        "    data['VWAP'] = vwap(data['High'], data['Low'],data['Close'], data['Volume'],5)\n",
        "    #Calculate RSI Fibonacci Band and Average of values combined - MOMENTUM IND.\n",
        "    data['RSI8'] = rsi(data['Close'],8)\n",
        "    data['RSI13'] = rsi(data['Close'],13)\n",
        "    data['RSI21'] = rsi(data['Close'],21)\n",
        "    data['RSI_AVG'] = (data['RSI13'] + data['RSI13'] + data['RSI21']) / 3\n",
        "    #Calculate Average True Range\n",
        "    data['ATR'] = atr(high=data['High'], low=data['Low'], close=data['Close'], window=14)\n",
        "    #Write File to tikcers directory\n",
        "    data.to_csv(f\"./tickers/{ticker}.csv\")\n",
        "    print(f\"{ticker} Downloaded ✓\")\n",
        "  except HTTPError as err:\n",
        "    print(f\"{ticker} Not Found X\")\n",
        "print(\"Download Complete\")"
      ]
    },
    {
      "cell_type": "markdown",
      "source": [
        "#Implementing Multiple Linear Regression on Data Collected to Predict Future Price Changes"
      ],
      "metadata": {
        "id": "0_qkfwdtN4_v"
      }
    },
    {
      "cell_type": "code",
      "source": [
        ""
      ],
      "metadata": {
        "id": "3g5akiQtOEM2"
      },
      "execution_count": null,
      "outputs": []
    },
    {
      "cell_type": "markdown",
      "source": [
        "#Test Block"
      ],
      "metadata": {
        "id": "hDMxZUBYbubN"
      }
    },
    {
      "cell_type": "code",
      "source": [
        "import plotly.express as px\n",
        "import pandas as pd"
      ],
      "metadata": {
        "id": "tn9gKbKsbxle"
      },
      "execution_count": 44,
      "outputs": []
    },
    {
      "cell_type": "code",
      "source": [
        "from numpy.lib import type_check\n",
        "df = pd.read_csv('./tickers/AA.csv')\n",
        "print(slope_calc(df.iloc[:,0],df['EMA13']))\n",
        "# df['EMA13_SLOPE'] = slope_calc(df.iloc[:,0],df['EMA13'])\n",
        "print(df['EMA13_SLOPE'])\n",
        "# df.rename_axis('index1').reset_index()\n",
        "# fig1 = px.line(df, x=\"Date\", y=\"HMA_AVG\", title=\"HMA_AVG\")\n",
        "# fig1.add_ohlc(open=df['Open'], high=df['High'], low=df['Low'], close=df['Close'], x=df[\"Date\"],name=\"OHLC\")\n",
        "# fig1.update_layout()\n",
        "\n",
        "#fig1.show()\n",
        "\n",
        "# fig2 = px.line(df, x=\"Date\", y=\"OPENCLOSEDIFF_EMA_5\", title=\"OPENCLOSEDIFF MOVING AVERAGE - 5 DAYS PERIOD\")\n",
        "# fig2.add_hline(y=0, line_width=3, line_dash=\"dash\", line_color=\"green\")\n",
        "\n",
        "#fig2.show()"
      ],
      "metadata": {
        "colab": {
          "base_uri": "https://localhost:8080/"
        },
        "id": "WHLl6HIlcELv",
        "outputId": "c69df9c9-c10c-4cfa-a15c-f6749caa21f5"
      },
      "execution_count": 46,
      "outputs": [
        {
          "output_type": "stream",
          "name": "stdout",
          "text": [
            "nan\n",
            "0      0.037405\n",
            "1      0.037405\n",
            "2      0.037405\n",
            "3      0.037405\n",
            "4      0.037405\n",
            "         ...   \n",
            "782    0.037405\n",
            "783    0.037405\n",
            "784    0.037405\n",
            "785    0.037405\n",
            "786    0.037405\n",
            "Name: EMA13_SLOPE, Length: 787, dtype: float64\n"
          ]
        }
      ]
    }
  ],
  "metadata": {
    "colab": {
      "collapsed_sections": [],
      "name": "stock_analysis.ipynb",
      "provenance": [],
      "include_colab_link": true
    },
    "kernelspec": {
      "display_name": "Python 3 (ipykernel)",
      "language": "python",
      "name": "python3"
    },
    "language_info": {
      "codemirror_mode": {
        "name": "ipython",
        "version": 3
      },
      "file_extension": ".py",
      "mimetype": "text/x-python",
      "name": "python",
      "nbconvert_exporter": "python",
      "pygments_lexer": "ipython3",
      "version": "3.9.7"
    }
  },
  "nbformat": 4,
  "nbformat_minor": 0
}